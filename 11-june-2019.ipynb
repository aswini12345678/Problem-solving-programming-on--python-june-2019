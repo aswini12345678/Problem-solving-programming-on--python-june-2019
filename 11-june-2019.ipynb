{
 "cells": [
  {
   "cell_type": "markdown",
   "metadata": {},
   "source": [
    "## Markdone\n",
    "* **Bold**<br>\n",
    "* *itallic*<br>\n",
    "* ***kavitha***<br>\n",
    "* Normal Text\n",
    "   * sublist1\n",
    "   * sublist2\n",
    "   \n",
    "1. Ordered list element 1\n",
    "2. Ordered list element 2\n",
    "\n",
    "\n",
    "- [ ] Option 1\n",
    "- [ ] Option 2\n",
    "- [ ] Option 3\n",
    "\n",
    "[jupyter](jupyter.png)\n",
    "\n",
    "<img src=\"jupyter.png\" style=\"float:left\" height=\"1000\" width=\"500\"> "
   ]
  },
  {
   "cell_type": "code",
   "execution_count": null,
   "metadata": {},
   "outputs": [],
   "source": []
  }
 ],
 "metadata": {
  "kernelspec": {
   "display_name": "Python 3",
   "language": "python",
   "name": "python3"
  },
  "language_info": {
   "codemirror_mode": {
    "name": "ipython",
    "version": 3
   },
   "file_extension": ".py",
   "mimetype": "text/x-python",
   "name": "python",
   "nbconvert_exporter": "python",
   "pygments_lexer": "ipython3",
   "version": "3.7.3"
  }
 },
 "nbformat": 4,
 "nbformat_minor": 2
}
