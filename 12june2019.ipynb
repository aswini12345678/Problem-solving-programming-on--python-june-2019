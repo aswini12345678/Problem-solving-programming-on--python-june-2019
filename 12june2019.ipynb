{
 "cells": [
  {
   "cell_type": "markdown",
   "metadata": {},
   "source": [
    "### for loop in python\n",
    "\n",
    "[101,210]\n",
    "\n",
    " for number in range(101,210)\n",
    "          print number\n",
    "          \n",
    "          \n",
    "  O/P :-\n",
    "  \n",
    "  101\n",
    "  \n",
    "  102\n",
    "  .\n",
    "  .\n",
    "  .\n",
    "  .\n",
    "  210"
   ]
  },
  {
   "cell_type": "code",
   "execution_count": 6,
   "metadata": {},
   "outputs": [
    {
     "name": "stdout",
     "output_type": "stream",
     "text": [
      "500 502 504 506 508 510 512 514 516 518 520 522 524 "
     ]
    }
   ],
   "source": [
    "# Function to print the alternative values in a range\n",
    "# [500,550] -> 500 502 503 ....550\n",
    "# (500,550) -> 501 503 503 ....549\n",
    "# range(500,550) -> 500 501 503 ...549\n",
    "\n",
    "\n",
    "def alternate(lb, ub):\n",
    "        for number in range (lb, ub+1, 2):\n",
    "            print(number, end=\" \")\n",
    "        return\n",
    "\n",
    "alternate(500, 525)\n",
    "        "
   ]
  },
  {
   "cell_type": "code",
   "execution_count": 7,
   "metadata": {},
   "outputs": [
    {
     "name": "stdout",
     "output_type": "stream",
     "text": [
      "500 504 508 512 516 520 524 "
     ]
    }
   ],
   "source": [
    "\n",
    "def alternate(lb, ub):\n",
    "        for number in range (lb, ub+1, 4):\n",
    "            print(number, end=\" \")\n",
    "        return\n",
    "\n",
    "alternate(500, 525)"
   ]
  },
  {
   "cell_type": "code",
   "execution_count": 8,
   "metadata": {},
   "outputs": [
    {
     "name": "stdout",
     "output_type": "stream",
     "text": [
      "500 503 506 509 512 515 518 521 524 "
     ]
    }
   ],
   "source": [
    "\n",
    "def alternate(lb, ub):\n",
    "        for number in range (lb, ub+1, 3):\n",
    "            print(number, end=\" \")\n",
    "        return\n",
    "\n",
    "alternate(500, 525)"
   ]
  },
  {
   "cell_type": "code",
   "execution_count": 12,
   "metadata": {},
   "outputs": [
    {
     "name": "stdout",
     "output_type": "stream",
     "text": [
      "550 549 548 547 546 545 544 543 542 541 540 539 538 537 536 535 534 533 532 531 530 529 528 527 526 525 524 523 522 521 520 519 518 517 516 515 514 513 512 511 510 509 508 507 506 505 504 503 502 501 500 "
     ]
    }
   ],
   "source": [
    "# function to print the reverse of a given range in the same\n",
    "\n",
    "def reverse(lb,ub):\n",
    "    for count in range (ub, lb-1, -1):\n",
    "        print(count, end= \" \")\n",
    "    return\n",
    "reverse(500,550)"
   ]
  },
  {
   "cell_type": "code",
   "execution_count": 22,
   "metadata": {},
   "outputs": [
    {
     "name": "stdout",
     "output_type": "stream",
     "text": [
      "549 547 545 543 541 539 537 535 533 531 529 527 525 523 521 519 517 515 513 511 509 507 505 503 501 "
     ]
    }
   ],
   "source": [
    "def reverseodd(lb,ub):\n",
    "    for count in range (ub, lb-1, -1):\n",
    "        if(count % 2 != 0):\n",
    "            print(count, end= \" \")\n",
    "    return\n",
    "reverseodd(500,550)"
   ]
  },
  {
   "cell_type": "code",
   "execution_count": 27,
   "metadata": {},
   "outputs": [
    {
     "data": {
      "text/plain": [
       "33"
      ]
     },
     "execution_count": 27,
     "metadata": {},
     "output_type": "execute_result"
    }
   ],
   "source": [
    "#function to calculate the sum of numbers in a range\n",
    "\n",
    "def sumof(lb,ub):\n",
    "    sum = 0\n",
    "    for count in range (lb, ub+1):\n",
    "        sum = sum + count\n",
    "       \n",
    "        \n",
    "    return sum\n",
    "sumof(10,12)"
   ]
  },
  {
   "cell_type": "code",
   "execution_count": 39,
   "metadata": {},
   "outputs": [
    {
     "data": {
      "text/plain": [
       "5.5"
      ]
     },
     "execution_count": 39,
     "metadata": {},
     "output_type": "execute_result"
    }
   ],
   "source": [
    "# function to clculate the avg of a given rage\n",
    "\n",
    "def avgof(lb,ub):\n",
    "    sum = 0\n",
    "    \n",
    "    for count in range (lb, ub+1):\n",
    "        sum = sum + count\n",
    "        \n",
    "       \n",
    "        \n",
    "    return sum/((ub+1)-lb)\n",
    "avgof(1,10)"
   ]
  },
  {
   "cell_type": "code",
   "execution_count": 31,
   "metadata": {},
   "outputs": [
    {
     "data": {
      "text/plain": [
       "True"
      ]
     },
     "execution_count": 31,
     "metadata": {},
     "output_type": "execute_result"
    }
   ],
   "source": [
    "# function to generate all leap years in a given time period\n",
    "\n",
    "\n",
    "def isleapyear(year):\n",
    "    \n",
    "        if(year % 400 == 0) or (year % 4 == 0 and year % 100 != 0):\n",
    "           return True\n",
    "        return False\n",
    "        \n",
    "        \n",
    "isleapyear(2016)\n"
   ]
  },
  {
   "cell_type": "code",
   "execution_count": 82,
   "metadata": {},
   "outputs": [
    {
     "name": "stdout",
     "output_type": "stream",
     "text": [
      "2000 2004 2008 2012 2016 2020 2024 2028 2032 2036 2040 "
     ]
    }
   ],
   "source": [
    "def timeperiod(lb,ub):\n",
    "    for count in range (lb, ub+1):\n",
    "        if(count % 400 == 0) or (count % 4 == 0 and count % 100 != 0):\n",
    "            print(count, end=\" \")\n",
    "            \n",
    "timeperiod(2000, 2040)\n"
   ]
  },
  {
   "cell_type": "code",
   "execution_count": 47,
   "metadata": {},
   "outputs": [
    {
     "data": {
      "text/plain": [
       "731"
      ]
     },
     "execution_count": 47,
     "metadata": {},
     "output_type": "execute_result"
    }
   ],
   "source": [
    "#calculate number of days in a given timeperiod using leapyear logic\n",
    "\n",
    "\n",
    "def numofdays(lb,ub):\n",
    "    sum = 0\n",
    "    for year in range (lb, ub+1):\n",
    "        if(year % 400 == 0) or (year % 4 == 0 and year % 100 != 0):\n",
    "            sum = sum + 366\n",
    "   \n",
    "        else:\n",
    "            sum = sum + 365\n",
    "    return sum\n",
    "            \n",
    "numofdays(2000, 2001)\n",
    "\n"
   ]
  },
  {
   "cell_type": "code",
   "execution_count": 24,
   "metadata": {},
   "outputs": [
    {
     "data": {
      "text/plain": [
       "1461.0581"
      ]
     },
     "execution_count": 24,
     "metadata": {},
     "output_type": "execute_result"
    }
   ],
   "source": [
    "# function to calculate number of hours for a given period \n",
    "# (11, 1975, 3, 1999)\n",
    "\n",
    "def hours(lm_iy, um_uy):\n",
    "    sum = 0\n",
    "    count = 0\n",
    "    \n",
    "    for year in range (lm_iy, um_uy):\n",
    "        if(year % 400 == 0) or (year % 4 == 0 and year % 100 != 0):\n",
    "            sum = sum + 366 \n",
    "   \n",
    "        else:\n",
    "            sum = sum + 365\n",
    "            count = sum - 215\n",
    "            \n",
    "    return count/10000\n",
    "\n",
    "hours(2_2016, 6_2019)\n",
    "\n",
    "\n",
    "      \n",
    "        "
   ]
  },
  {
   "cell_type": "markdown",
   "metadata": {},
   "source": [
    "### "
   ]
  },
  {
   "cell_type": "code",
   "execution_count": 32,
   "metadata": {},
   "outputs": [],
   "source": [
    "# function to generate all perfect numbers in a given range\n",
    "\n",
    "def perfect(lb,ub):\n",
    "    count = 1\n",
    "    sum = 0\n",
    "    for number in range(lb, ub//2+1):\n",
    "        if(number % count == 0):\n",
    "            count = count + 1\n",
    "            sum = sum + number\n",
    "            if(sum == number):\n",
    "                print(number, end=\" \")\n",
    "perfect(6,10)\n",
    "                "
   ]
  },
  {
   "cell_type": "code",
   "execution_count": 48,
   "metadata": {},
   "outputs": [
    {
     "ename": "NameError",
     "evalue": "name 'numberofdays' is not defined",
     "output_type": "error",
     "traceback": [
      "\u001b[1;31m---------------------------------------------------------------------------\u001b[0m",
      "\u001b[1;31mNameError\u001b[0m                                 Traceback (most recent call last)",
      "\u001b[1;32m<ipython-input-48-f6f091cba7c7>\u001b[0m in \u001b[0;36m<module>\u001b[1;34m\u001b[0m\n\u001b[0;32m     32\u001b[0m \u001b[1;33m\u001b[0m\u001b[0m\n\u001b[0;32m     33\u001b[0m \u001b[1;33m\u001b[0m\u001b[0m\n\u001b[1;32m---> 34\u001b[1;33m \u001b[0mnumberofhours\u001b[0m\u001b[1;33m(\u001b[0m\u001b[1;36m11\u001b[0m\u001b[1;33m,\u001b[0m \u001b[1;36m1975\u001b[0m\u001b[1;33m,\u001b[0m \u001b[1;36m3\u001b[0m\u001b[1;33m,\u001b[0m \u001b[1;36m1999\u001b[0m\u001b[1;33m)\u001b[0m\u001b[1;33m\u001b[0m\u001b[1;33m\u001b[0m\u001b[0m\n\u001b[0m",
      "\u001b[1;32m<ipython-input-48-f6f091cba7c7>\u001b[0m in \u001b[0;36mnumberofhours\u001b[1;34m(startmonth, startyear, endmonth, endyear)\u001b[0m\n\u001b[0;32m     28\u001b[0m         \u001b[0mdays\u001b[0m \u001b[1;33m+=\u001b[0m \u001b[0mnumberofdays\u001b[0m\u001b[1;33m(\u001b[0m\u001b[0mstartyear\u001b[0m\u001b[1;33m+\u001b[0m\u001b[1;36m1\u001b[0m\u001b[1;33m,\u001b[0m \u001b[0mstartyear\u001b[0m\u001b[1;33m+\u001b[0m\u001b[1;36m1\u001b[0m\u001b[1;33m)\u001b[0m\u001b[1;33m\u001b[0m\u001b[1;33m\u001b[0m\u001b[0m\n\u001b[0;32m     29\u001b[0m     \u001b[1;32melif\u001b[0m \u001b[0mendyear\u001b[0m \u001b[1;33m-\u001b[0m \u001b[0mstartyear\u001b[0m \u001b[1;33m>\u001b[0m \u001b[1;36m2\u001b[0m\u001b[1;33m:\u001b[0m\u001b[1;33m\u001b[0m\u001b[1;33m\u001b[0m\u001b[0m\n\u001b[1;32m---> 30\u001b[1;33m         \u001b[0mdays\u001b[0m \u001b[1;33m+=\u001b[0m \u001b[0mnumberofdays\u001b[0m\u001b[1;33m(\u001b[0m\u001b[0mstartyear\u001b[0m\u001b[1;33m+\u001b[0m\u001b[1;36m1\u001b[0m\u001b[1;33m,\u001b[0m \u001b[0mendyear\u001b[0m \u001b[1;33m-\u001b[0m\u001b[1;36m1\u001b[0m\u001b[1;33m)\u001b[0m\u001b[1;33m\u001b[0m\u001b[1;33m\u001b[0m\u001b[0m\n\u001b[0m\u001b[0;32m     31\u001b[0m     \u001b[1;32mreturn\u001b[0m \u001b[0mdays\u001b[0m \u001b[1;33m*\u001b[0m \u001b[1;36m24\u001b[0m\u001b[1;33m\u001b[0m\u001b[1;33m\u001b[0m\u001b[0m\n\u001b[0;32m     32\u001b[0m \u001b[1;33m\u001b[0m\u001b[0m\n",
      "\u001b[1;31mNameError\u001b[0m: name 'numberofdays' is not defined"
     ]
    }
   ],
   "source": [
    "def numberofdaysmonth(month,year):\n",
    "    if month == 2:\n",
    "        if isleapyear(year):\n",
    "            return 29\n",
    "        return 28\n",
    "    elif (month <= 7 and month % 2 != 0) or (month >= 7 and month % 2 != 0):\n",
    "        return 31\n",
    "    else:\n",
    "        return 30\n",
    "\n",
    "def daysinstartyear(startmonth, startyear):\n",
    "    days = 0\n",
    "    for month in range(startmonth, 13):\n",
    "        days += numberofdaysmonth(month, startyear)\n",
    "    return days\n",
    "\n",
    "def daysinendyear(endmonth, endyear):\n",
    "    days = 0\n",
    "    for month in range(1, endmonth+1):\n",
    "        days += numberofdaysmonth(month, endyear)\n",
    "    return days\n",
    "\n",
    "def numberofhours(startmonth,startyear,endmonth,endyear):\n",
    "    days = 0\n",
    "    days += daysinstartyear(startmonth,startyear)\n",
    "    days += daysinendyear(endmonth,endyear)\n",
    "    if endyear - startyear == 1:\n",
    "        days += numberofdays(startyear+1, startyear+1)\n",
    "    elif endyear - startyear > 2:\n",
    "        days += numberofdays(startyear+1, endyear -1)\n",
    "    return days * 24\n",
    "\n",
    "\n",
    "numberofhours(11, 1975, 3, 1999)\n"
   ]
  },
  {
   "cell_type": "code",
   "execution_count": 45,
   "metadata": {},
   "outputs": [
    {
     "data": {
      "text/plain": [
       "1096"
      ]
     },
     "execution_count": 45,
     "metadata": {},
     "output_type": "execute_result"
    }
   ],
   "source": [
    "def numofdays(startyear,endyear):\n",
    "    sum = 0\n",
    "    for year in range (startyear, endyear+1):\n",
    "        if(year % 400 == 0) or (year % 4 == 0 and year % 100 != 0):\n",
    "            sum = sum + 366\n",
    "   \n",
    "        else:\n",
    "            sum = sum + 365\n",
    "    return sum\n",
    "numofdays(2016, 2018)\n",
    "\n"
   ]
  },
  {
   "cell_type": "code",
   "execution_count": null,
   "metadata": {},
   "outputs": [],
   "source": []
  }
 ],
 "metadata": {
  "kernelspec": {
   "display_name": "Python 3",
   "language": "python",
   "name": "python3"
  },
  "language_info": {
   "codemirror_mode": {
    "name": "ipython",
    "version": 3
   },
   "file_extension": ".py",
   "mimetype": "text/x-python",
   "name": "python",
   "nbconvert_exporter": "python",
   "pygments_lexer": "ipython3",
   "version": "3.7.3"
  }
 },
 "nbformat": 4,
 "nbformat_minor": 2
}
