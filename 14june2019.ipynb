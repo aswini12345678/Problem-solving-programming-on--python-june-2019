{
 "cells": [
  {
   "cell_type": "markdown",
   "metadata": {},
   "source": [
    "### Python data structures\n",
    "\n",
    "### june 14-2019\n",
    "\n",
    "* lists\n",
    "* tuples\n",
    "* "
   ]
  },
  {
   "cell_type": "code",
   "execution_count": null,
   "metadata": {},
   "outputs": [],
   "source": []
  },
  {
   "cell_type": "code",
   "execution_count": null,
   "metadata": {},
   "outputs": [],
   "source": []
  },
  {
   "cell_type": "markdown",
   "metadata": {},
   "source": [
    "li = [ 123, 978, 654]\n",
    "\n",
    "li # Access the entire list\n",
    "\n",
    "li[1] #access an element with index in a \n",
    "\n",
    "li[1::2]\n",
    "#Lists can be accessed, manipulated in two different ways\n",
    "    # Direct referencing\n",
    "    # Indirect referencing\n",
    "    \n",
    "li.append(345) # Adding an element to the end of the list\n",
    "\n",
    "li.insert(1, 234) # Adding an element at a \n",
    "\n",
    "li.sort() # Sort elements in aascending order\n",
    "\n",
    "li.pop() # Remove the last element in a list\n",
    "\n",
    "li\n",
    "\n",
    "li.pop(1) # Remove an element at a particular index\n",
    "li\n",
    "\n",
    "li2 = [234, 456, 789]\n",
    "\n",
    "li2.extend(li2) # Merge list 2 into list 1\n",
    "\n",
    "sum(li)\n",
    "max(li) #to find largest element \n",
    "len(li) # F\n",
    "min(li) \n",
    "\n",
    "sum(li)/len(li)  # Average of list elements \n",
    "\n",
    "sum(li[1::2])/len(li[1::2]) # average of all alternate elements\n"
   ]
  },
  {
   "cell_type": "code",
   "execution_count": 10,
   "metadata": {},
   "outputs": [
    {
     "data": {
      "text/plain": [
       "8"
      ]
     },
     "execution_count": 10,
     "metadata": {},
     "output_type": "execute_result"
    }
   ],
   "source": [
    " #Function to identify the second largest element in a \n",
    "li = [5,8,15]    \n",
    "def secondlargest(li):\n",
    "    li.sort()\n",
    "    return li[len(li)-2]\n",
    "secondlargest(li)\n",
    "    "
   ]
  },
  {
   "cell_type": "code",
   "execution_count": 18,
   "metadata": {},
   "outputs": [
    {
     "data": {
      "text/plain": [
       "15"
      ]
     },
     "execution_count": 18,
     "metadata": {},
     "output_type": "execute_result"
    }
   ],
   "source": [
    "def largest(li):\n",
    "    li.sort()\n",
    "    return li[len(li)-1]\n",
    "largest(li)"
   ]
  },
  {
   "cell_type": "code",
   "execution_count": 21,
   "metadata": {},
   "outputs": [
    {
     "data": {
      "text/plain": [
       "15"
      ]
     },
     "execution_count": 21,
     "metadata": {},
     "output_type": "execute_result"
    }
   ],
   "source": [
    "#Function to return the nth largest\n",
    "\n",
    "def largest(li, n):\n",
    "    li=sorted(li)\n",
    "    return li[len(li)-n]\n",
    "largest(li, 1)"
   ]
  },
  {
   "cell_type": "code",
   "execution_count": 24,
   "metadata": {},
   "outputs": [
    {
     "data": {
      "text/plain": [
       "8"
      ]
     },
     "execution_count": 24,
     "metadata": {},
     "output_type": "execute_result"
    }
   ],
   "source": [
    " def largest(li,n):\n",
    "    li.sort()\n",
    "    return li[-n]\n",
    "largest(li, 2)"
   ]
  },
  {
   "cell_type": "code",
   "execution_count": 27,
   "metadata": {},
   "outputs": [
    {
     "data": {
      "text/plain": [
       "2"
      ]
     },
     "execution_count": 27,
     "metadata": {},
     "output_type": "execute_result"
    }
   ],
   "source": [
    "# Function to search for data in a list\n",
    "# Search for the key in the list and return the index as -1\n",
    "def linearsearch(li, key):\n",
    "    for index in range(0, len(li)):\n",
    "        if li[index] == key:\n",
    "            return index\n",
    "        \n",
    "    return -1\n",
    "\n",
    "linearsearch(li, 15)\n",
    "    \n"
   ]
  },
  {
   "cell_type": "code",
   "execution_count": 28,
   "metadata": {},
   "outputs": [
    {
     "data": {
      "text/plain": [
       "1"
      ]
     },
     "execution_count": 28,
     "metadata": {},
     "output_type": "execute_result"
    }
   ],
   "source": [
    "def linearsearch2(li, key):\n",
    "    for element in li:\n",
    "        if element == key:\n",
    "            return li.index(element)\n",
    "        \n",
    "    return -1\n",
    "\n",
    "linearsearch2(li, 8)\n"
   ]
  },
  {
   "cell_type": "code",
   "execution_count": 37,
   "metadata": {},
   "outputs": [
    {
     "data": {
      "text/plain": [
       "1"
      ]
     },
     "execution_count": 37,
     "metadata": {},
     "output_type": "execute_result"
    }
   ],
   "source": [
    "def linearsearch3(li, key):\n",
    "        if key in li:\n",
    "            return li.index(key)\n",
    "        return -1\n",
    "\n",
    "linearsearch3(li, 8)\n"
   ]
  },
  {
   "cell_type": "code",
   "execution_count": 42,
   "metadata": {},
   "outputs": [
    {
     "data": {
      "text/plain": [
       "2"
      ]
     },
     "execution_count": 42,
     "metadata": {},
     "output_type": "execute_result"
    }
   ],
   "source": [
    "# Function to count the occurances of a charecter in a stream\n",
    "# \"Python Programming\", m -> 2\n",
    "\n",
    "def countcharoccurances(s, subs):\n",
    "    count = 0\n",
    "    for ch in s:\n",
    "        if ch == c:\n",
    "            count = count + 1\n",
    "    return count\n",
    "\n",
    "def countcharoccurances2(s, c):\n",
    "    return s.count(c)\n",
    "\n",
    "countcharoccurances2(\"python programming\", 'm')"
   ]
  },
  {
   "cell_type": "code",
   "execution_count": 5,
   "metadata": {},
   "outputs": [
    {
     "data": {
      "text/plain": [
       "3"
      ]
     },
     "execution_count": 5,
     "metadata": {},
     "output_type": "execute_result"
    }
   ],
   "source": [
    "def countofcharoccurance(s, subs):\n",
    "    count = 0\n",
    "    for ch in s:\n",
    "        if ch == c:\n",
    "            count = count + 1\n",
    "    return count\n",
    "def countofcharoccurance(s, c):\n",
    "    return s.count(c)\n",
    "\n",
    "countofcharoccurance(\"aswinikumari\", 'i')"
   ]
  },
  {
   "cell_type": "code",
   "execution_count": 47,
   "metadata": {},
   "outputs": [
    {
     "data": {
      "text/plain": [
       "0"
      ]
     },
     "execution_count": 47,
     "metadata": {},
     "output_type": "execute_result"
    }
   ],
   "source": [
    "# Function to find the number of occurances of \n",
    "# \"abcabcddcba\", \"ab\" -> 2\n",
    "\n",
    "\n",
    "def countcharoccurances3(s, subs):\n",
    "    count = 0\n",
    "    for string in s:\n",
    "        if string == subs:\n",
    "            count = count + 1\n",
    "    return count\n",
    "\n",
    "countcharoccurances3(\"abcabcddcba\", 'ab')\n"
   ]
  },
  {
   "cell_type": "code",
   "execution_count": 2,
   "metadata": {},
   "outputs": [
    {
     "data": {
      "text/plain": [
       "[1, 2, 3, 4, 5, 6]"
      ]
     },
     "execution_count": 2,
     "metadata": {},
     "output_type": "execute_result"
    }
   ],
   "source": [
    "s = \"1 2 3 4 5 6\"\n",
    "li = s.split()\n",
    "numberlist = []\n",
    "for i in li:\n",
    "    numberlist.append(int(i))\n",
    "numberlist"
   ]
  },
  {
   "cell_type": "code",
   "execution_count": 6,
   "metadata": {},
   "outputs": [
    {
     "name": "stdout",
     "output_type": "stream",
     "text": [
      "3\n"
     ]
    },
    {
     "data": {
      "text/plain": [
       "14"
      ]
     },
     "execution_count": 6,
     "metadata": {},
     "output_type": "execute_result"
    }
   ],
   "source": [
    "# sum of the squares of n natural numbers\n",
    "\n",
    "n = int(input())\n",
    "\n",
    "def sumsquaresnaturalnumbers(n):\n",
    "    sum = 0\n",
    "    for i in range(1, n+1):\n",
    "        sum = sum + i ** 2\n",
    "    return sum\n",
    "sumsquaresnaturalnumbers(n)"
   ]
  },
  {
   "cell_type": "code",
   "execution_count": 9,
   "metadata": {},
   "outputs": [
    {
     "name": "stdout",
     "output_type": "stream",
     "text": [
      "4\n"
     ]
    },
    {
     "data": {
      "text/plain": [
       "30"
      ]
     },
     "execution_count": 9,
     "metadata": {},
     "output_type": "execute_result"
    }
   ],
   "source": [
    "def squarennaturalnumbers(n):\n",
    "    sum = 0\n",
    "    for i in range(1, n+1):\n",
    "        sum = sum + i**2\n",
    "    return sum\n",
    "n = int(input())\n",
    "squarennaturalnumbers(n)"
   ]
  },
  {
   "cell_type": "code",
   "execution_count": 10,
   "metadata": {},
   "outputs": [
    {
     "name": "stdout",
     "output_type": "stream",
     "text": [
      "3\n",
      "1 2 3\n"
     ]
    },
    {
     "data": {
      "text/plain": [
       "1"
      ]
     },
     "execution_count": 10,
     "metadata": {},
     "output_type": "execute_result"
    }
   ],
   "source": [
    "# integer array of size n , need to print the size and elements of that array\n",
    "\n",
    "n = int(input())\n",
    "s = input()\n",
    "# \"1 2 3 4 5\"\n",
    "li = []\n",
    "\n",
    "for i in s.split():\n",
    "    li.append(abs(int(i)))\n",
    "# -1000 -100 1 2 3 4\n",
    "min(li)\n",
    "    \n",
    "\n"
   ]
  },
  {
   "cell_type": "code",
   "execution_count": 10,
   "metadata": {},
   "outputs": [
    {
     "ename": "SyntaxError",
     "evalue": "invalid syntax (<ipython-input-10-8dadb405e30d>, line 1)",
     "output_type": "error",
     "traceback": [
      "\u001b[1;36m  File \u001b[1;32m\"<ipython-input-10-8dadb405e30d>\"\u001b[1;36m, line \u001b[1;32m1\u001b[0m\n\u001b[1;33m    def closestzero(li)\u001b[0m\n\u001b[1;37m                       ^\u001b[0m\n\u001b[1;31mSyntaxError\u001b[0m\u001b[1;31m:\u001b[0m invalid syntax\n"
     ]
    }
   ],
   "source": [
    "def closestzero(li)\n",
    "n1 = []\n",
    "for i in li:\n",
    "    if i < 0:\n",
    "        nl.append(i)\n",
    "        \n",
    "p1 = []\n",
    "for i in li:\n",
    "    if i >= 0:\n",
    "        p1.append(i)\n",
    "nc = min(n1)\n",
    "pc = max(p1)\n",
    "if nc == pc:\n",
    "    return pc\n",
    "elif abs(nc) < pc:\n",
    "    return abs(nc)\n",
    "else:\n",
    "    return pc"
   ]
  },
  {
   "cell_type": "code",
   "execution_count": 15,
   "metadata": {},
   "outputs": [
    {
     "name": "stdout",
     "output_type": "stream",
     "text": [
      "6\n",
      "-2 -1 -3 2 3 4\n"
     ]
    },
    {
     "data": {
      "text/plain": [
       "1"
      ]
     },
     "execution_count": 15,
     "metadata": {},
     "output_type": "execute_result"
    }
   ],
   "source": [
    "n = int(input())\n",
    "s = input()\n",
    "s = s.split()\n",
    "li = []\n",
    "for i in s:\n",
    "    li.append(abs(int(i)))\n",
    "    \n",
    "def closestzero(li):\n",
    "    if 0 in li:\n",
    "        return 0\n",
    "    else:\n",
    "        li.sort()\n",
    "        pc = []\n",
    "        nc = []\n",
    "        for i in li:\n",
    "            if i > 0:\n",
    "                pc.append(i)\n",
    "        for i in li:\n",
    "            if i < 0:\n",
    "                nc.append(i)\n",
    "        if len(nc) == 0:\n",
    "            return min(pc)\n",
    "        elif len(p) == 0:\n",
    "            return max(nc)\n",
    "        else:\n",
    "            nz = max(nc)\n",
    "            pz = min(pc)\n",
    "            if abs(nc) > pc or abs(nc) == pc:\n",
    "                return pc\n",
    "            else:\n",
    "                return nz\n",
    "closestzero(li)"
   ]
  },
  {
   "cell_type": "code",
   "execution_count": null,
   "metadata": {},
   "outputs": [],
   "source": []
  }
 ],
 "metadata": {
  "kernelspec": {
   "display_name": "Python 3",
   "language": "python",
   "name": "python3"
  },
  "language_info": {
   "codemirror_mode": {
    "name": "ipython",
    "version": 3
   },
   "file_extension": ".py",
   "mimetype": "text/x-python",
   "name": "python",
   "nbconvert_exporter": "python",
   "pygments_lexer": "ipython3",
   "version": "3.7.3"
  }
 },
 "nbformat": 4,
 "nbformat_minor": 2
}
