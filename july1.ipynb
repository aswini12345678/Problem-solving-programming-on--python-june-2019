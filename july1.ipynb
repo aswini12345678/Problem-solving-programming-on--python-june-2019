{
 "cells": [
  {
   "cell_type": "markdown",
   "metadata": {},
   "source": [
    "### Functions:"
   ]
  },
  {
   "cell_type": "code",
   "execution_count": null,
   "metadata": {},
   "outputs": [],
   "source": [
    "# functions are \n",
    "* pre defined  \n",
    "* user defined\n",
    "* Predefined functions are \n",
    "        -> int\n",
    "        -> float\n",
    "        -> str\n",
    "        -> tuple\n",
    "        -> list\n",
    "        "
   ]
  },
  {
   "cell_type": "code",
   "execution_count": null,
   "metadata": {},
   "outputs": [],
   "source": [
    "def func_name(p1,p2...pz):\n",
    "    #function body\n",
    "    \n",
    "    \n",
    "func_name(arg1,arg2....argz)\n",
    "    "
   ]
  },
  {
   "cell_type": "code",
   "execution_count": 4,
   "metadata": {},
   "outputs": [
    {
     "name": "stdout",
     "output_type": "stream",
     "text": [
      "7\n"
     ]
    }
   ],
   "source": [
    "def addition(lb, ub):\n",
    "        print(lb+ub)\n",
    "        return\n",
    "addition(3,4)"
   ]
  },
  {
   "cell_type": "code",
   "execution_count": 6,
   "metadata": {},
   "outputs": [
    {
     "name": "stdout",
     "output_type": "stream",
     "text": [
      "9\n"
     ]
    }
   ],
   "source": [
    "def add(x,y):\n",
    "    return x+y\n",
    "\n",
    "print(add(4,5))"
   ]
  },
  {
   "cell_type": "code",
   "execution_count": 7,
   "metadata": {},
   "outputs": [
    {
     "name": "stdout",
     "output_type": "stream",
     "text": [
      "9\n"
     ]
    }
   ],
   "source": [
    "def add(x,y):\n",
    "    return x+y\n",
    "\n",
    "#print(add(4,5))\n",
    "rs = add(4,5)\n",
    "print(rs)"
   ]
  },
  {
   "cell_type": "code",
   "execution_count": 5,
   "metadata": {},
   "outputs": [
    {
     "name": "stdout",
     "output_type": "stream",
     "text": [
      "4\n"
     ]
    },
    {
     "data": {
      "text/plain": [
       "True"
      ]
     },
     "execution_count": 5,
     "metadata": {},
     "output_type": "execute_result"
    }
   ],
   "source": [
    "n = int(input())\n",
    "def evennum(n):\n",
    "    if(n%2 == 0):\n",
    "        return True\n",
    "    return False\n",
    "    return\n",
    "evennum(n)"
   ]
  },
  {
   "cell_type": "code",
   "execution_count": 4,
   "metadata": {},
   "outputs": [
    {
     "name": "stdout",
     "output_type": "stream",
     "text": [
      "7\n",
      "True\n"
     ]
    }
   ],
   "source": [
    "n = int(input())\n",
    "\n",
    "def isprime(n):\n",
    "    count = 0\n",
    "    for i in range(1,n+1):\n",
    "        if(n%i == 0):\n",
    "            count = count + 1\n",
    "    if(count == 2):\n",
    "        print(True)\n",
    "    else:\n",
    "         print(False)\n",
    "isprime(n)\n",
    "    "
   ]
  },
  {
   "cell_type": "code",
   "execution_count": 4,
   "metadata": {},
   "outputs": [
    {
     "name": "stdout",
     "output_type": "stream",
     "text": [
      "6\n",
      "True\n"
     ]
    }
   ],
   "source": [
    "# perfect\n",
    "n = int(input())\n",
    "def perfect(n):\n",
    "    sum = 0\n",
    "    count = 0\n",
    "    for i in range(1,n):\n",
    "        if(n%i == 0):\n",
    "            sum = sum + i\n",
    "            count += 1\n",
    "    if(sum == n):\n",
    "        print(True)\n",
    "    else:\n",
    "         print(False)\n",
    "perfect(n)\n",
    "\n"
   ]
  },
  {
   "cell_type": "code",
   "execution_count": 5,
   "metadata": {},
   "outputs": [
    {
     "name": "stdout",
     "output_type": "stream",
     "text": [
      "100\n",
      "False\n"
     ]
    }
   ],
   "source": [
    "s=int(input())\n",
    "def perfectnumbers(s):\n",
    "    if perfect(s):\n",
    "        for i in range(1,s+1):\n",
    "            print(i)\n",
    "perfectnumbers(s)    "
   ]
  },
  {
   "cell_type": "code",
   "execution_count": null,
   "metadata": {},
   "outputs": [],
   "source": [
    "6\n"
   ]
  }
 ],
 "metadata": {
  "kernelspec": {
   "display_name": "Python 3",
   "language": "python",
   "name": "python3"
  }
 },
 "nbformat": 4,
 "nbformat_minor": 2
}
