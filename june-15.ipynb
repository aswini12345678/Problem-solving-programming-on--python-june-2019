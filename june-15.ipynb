{
 "cells": [
  {
   "cell_type": "markdown",
   "metadata": {},
   "source": [
    "### problem 2\n",
    "* to find the number which is closest/fartest to 0."
   ]
  },
  {
   "cell_type": "code",
   "execution_count": 2,
   "metadata": {},
   "outputs": [
    {
     "name": "stdout",
     "output_type": "stream",
     "text": [
      "-1\n"
     ]
    }
   ],
   "source": [
    "li = [-1, -2, 2, 3]\n",
    "\n",
    "li.sort()\n",
    "\n",
    "pl = []\n",
    "\n",
    "for i in li:\n",
    "    pl.append(abs(i))\n",
    "    \n",
    "pl.sort()\n",
    "if pl[0] in li:\n",
    "    print(pl[0])\n",
    "else:\n",
    "    print(-pl[0])"
   ]
  },
  {
   "cell_type": "code",
   "execution_count": 3,
   "metadata": {},
   "outputs": [
    {
     "name": "stdout",
     "output_type": "stream",
     "text": [
      "1\n"
     ]
    }
   ],
   "source": [
    "li = [-1, -2, 2, 3]\n",
    "\n",
    "li.sort()\n",
    "\n",
    "pl = []\n",
    "\n",
    "for i in li:\n",
    "    pl.append(abs(i))\n",
    "    \n",
    "pl.sort()\n",
    "if pl[0] in li:\n",
    "    print(-pl[0])\n",
    "else:\n",
    "    print(pl[0])\n",
    "    \n",
    "\n",
    "\n"
   ]
  },
  {
   "cell_type": "code",
   "execution_count": 4,
   "metadata": {},
   "outputs": [
    {
     "name": "stdout",
     "output_type": "stream",
     "text": [
      "-10\n"
     ]
    }
   ],
   "source": [
    "# farthest from zero\n",
    "\n",
    "\n",
    "\n",
    "\n",
    "li = [-1, -2, 1, -10, 9]\n",
    "\n",
    "li.sort()\n",
    "\n",
    "pl = []\n",
    "\n",
    "for i in li:\n",
    "    pl.append(abs(i))\n",
    "    \n",
    "pl.sort()\n",
    "if pl[-1] in li:\n",
    "    print(pl[-1])\n",
    "else:\n",
    "    print(-pl[-1])"
   ]
  },
  {
   "cell_type": "markdown",
   "metadata": {},
   "source": [
    "### problem - 3\n",
    "* you are given a,b,c write a program to find the largest number which is less than or equal to c and leaves remainder b when divided by a."
   ]
  },
  {
   "cell_type": "code",
   "execution_count": 5,
   "metadata": {},
   "outputs": [
    {
     "data": {
      "text/plain": [
       "98"
      ]
     },
     "execution_count": 5,
     "metadata": {},
     "output_type": "execute_result"
    }
   ],
   "source": [
    "def cal(a, b, c):\n",
    "    for i in range(c, a-1, -1):\n",
    "        if i % a == b:\n",
    "            return i\n",
    "    return -1\n",
    "\n",
    "cal(3, 2, 100)\n"
   ]
  },
  {
   "cell_type": "markdown",
   "metadata": {},
   "source": [
    "### is palindrome"
   ]
  },
  {
   "cell_type": "code",
   "execution_count": null,
   "metadata": {},
   "outputs": [],
   "source": [
    "def ispalindrome(s):\n",
    "    if(s[:: -1] == s):\n",
    "        print(\"is palindrome\")\n",
    "    else:\n",
    "        print(\"is not palindrome\")\n",
    "        \n",
    "s = input()\n",
    "ispalindrome(s)"
   ]
  },
  {
   "cell_type": "markdown",
   "metadata": {},
   "source": [
    "### is string is toggle?"
   ]
  },
  {
   "cell_type": "code",
   "execution_count": null,
   "metadata": {},
   "outputs": [],
   "source": [
    "def istoggle(s):\n",
    "    z = \"\"\n",
    "    for i in s:\n",
    "        if i == i.lower():\n",
    "            z += i.upper()\n",
    "        else:\n",
    "            i == i.upper()\n",
    "            z += i.lower()\n",
    "    print(z)\n",
    "    \n",
    "s = input()\n",
    "istoggle(s)\n",
    "                "
   ]
  },
  {
   "cell_type": "markdown",
   "metadata": {},
   "source": [
    "### count divisors"
   ]
  },
  {
   "cell_type": "code",
   "execution_count": 4,
   "metadata": {},
   "outputs": [
    {
     "name": "stdout",
     "output_type": "stream",
     "text": [
      "1 10 1\n",
      "10\n"
     ]
    }
   ],
   "source": [
    "def isdivisors(l, r, k):\n",
    "    count = 0\n",
    "    for i in range(l, r+1, 1):\n",
    "        if (i % k == 0):\n",
    "            count = count + 1\n",
    "    print(count)\n",
    "    \n",
    "s = input()\n",
    "s = s.split()\n",
    "l = int(s[0])\n",
    "r = int(s[1])\n",
    "k = int(s[2])\n",
    "    \n",
    "\n",
    "    \n",
    "isdivisors(l, r, k)\n",
    "            "
   ]
  },
  {
   "cell_type": "markdown",
   "metadata": {},
   "source": [
    "### factorial of n"
   ]
  },
  {
   "cell_type": "code",
   "execution_count": 22,
   "metadata": {},
   "outputs": [
    {
     "name": "stdout",
     "output_type": "stream",
     "text": [
      "5\n",
      "120\n"
     ]
    }
   ],
   "source": [
    "def factorial(N):\n",
    "    sum = 1\n",
    "    for i in range(1, N+1):\n",
    "        sum = i * sum\n",
    "    print(sum)\n",
    "    \n",
    "N = int(input())\n",
    "\n",
    "factorial(N)\n",
    "    "
   ]
  },
  {
   "cell_type": "code",
   "execution_count": null,
   "metadata": {},
   "outputs": [],
   "source": []
  },
  {
   "cell_type": "markdown",
   "metadata": {},
   "source": [
    "### Two strings"
   ]
  },
  {
   "cell_type": "code",
   "execution_count": 51,
   "metadata": {},
   "outputs": [
    {
     "name": "stdout",
     "output_type": "stream",
     "text": [
      "1\n",
      "abc ,bca\n",
      "NO\n"
     ]
    }
   ],
   "source": [
    "def string(s1, s2):\n",
    "    l1 = []\n",
    "    l2 = []\n",
    "    for i in s1:\n",
    "        l1.append(i)\n",
    "    for j in s2:\n",
    "        l2.append(j)\n",
    "        l1.sort()\n",
    "        l2.sort()\n",
    "    if(l1 == l2):\n",
    "        print(\"YES\")\n",
    "    else:\n",
    "        print(\"NO\")\n",
    "        \n",
    "t = int(input())\n",
    "for i in range(t):\n",
    "    s = input()\n",
    "    l = s.split()\n",
    "\n",
    "    s1 = l[0]\n",
    "    s2 = l[1]\n",
    "    \n",
    "string(s1, s2)"
   ]
  },
  {
   "cell_type": "markdown",
   "metadata": {},
   "source": [
    "# "
   ]
  }
 ],
 "metadata": {
  "kernelspec": {
   "display_name": "Python 3",
   "language": "python",
   "name": "python3"
  },
  "language_info": {
   "codemirror_mode": {
    "name": "ipython",
    "version": 3
   },
   "file_extension": ".py",
   "mimetype": "text/x-python",
   "name": "python",
   "nbconvert_exporter": "python",
   "pygments_lexer": "ipython3",
   "version": "3.7.3"
  }
 },
 "nbformat": 4,
 "nbformat_minor": 2
}
