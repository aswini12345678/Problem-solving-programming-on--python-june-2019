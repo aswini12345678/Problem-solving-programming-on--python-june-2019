{
 "cells": [
  {
   "cell_type": "markdown",
   "metadata": {},
   "source": [
    "### count of digits and alphabits"
   ]
  },
  {
   "cell_type": "code",
   "execution_count": 1,
   "metadata": {},
   "outputs": [
    {
     "name": "stdout",
     "output_type": "stream",
     "text": [
      "aba\n",
      "3 0 "
     ]
    }
   ],
   "source": [
    "def countofdigitsandnumbers(s):\n",
    "    count = 0\n",
    "    count1 = 0\n",
    "    for i in range(0, len(s)):\n",
    "        if s[i].isdigit():\n",
    "            count = count + 1\n",
    "        if s[i].isalpha():\n",
    "            count1 = count1 + 1\n",
    "    print(count1, count, end=\" \")\n",
    "    \n",
    "s=input()\n",
    "countofdigitsandnumbers(s)"
   ]
  },
  {
   "cell_type": "markdown",
   "metadata": {},
   "source": [
    "### Two strings\n"
   ]
  },
  {
   "cell_type": "code",
   "execution_count": 12,
   "metadata": {},
   "outputs": [
    {
     "name": "stdout",
     "output_type": "stream",
     "text": [
      "2\n",
      "afd thj\n",
      "NO\n",
      "abc bca\n",
      "YES\n"
     ]
    }
   ],
   "source": [
    "def string(s1,s2):\n",
    "    count = 0\n",
    "    l1 = []\n",
    "    l2 = []\n",
    "    for i in s1:\n",
    "        l1.append(i)\n",
    "    for j in s2:\n",
    "        l2.append(j)\n",
    "    l1.sort()\n",
    "    l2.sort()\n",
    "    if(l1 == l2):\n",
    "        print(\"YES\")\n",
    "    else:\n",
    "        print(\"NO\")\n",
    "        \n",
    "t =int(input())\n",
    "for i in range(t):\n",
    "    s = input()\n",
    "    l = s.split()\n",
    "   # s1 = l[0]\n",
    "    #s2 = l[1]\n",
    "    string(l[0],l[1])\n"
   ]
  },
  {
   "cell_type": "code",
   "execution_count": null,
   "metadata": {},
   "outputs": [],
   "source": [
    "def string(s1, s2):\n",
    "    l1 = []\n",
    "    l2 = []\n",
    "    for i in s1:\n",
    "        l1.append(i)\n",
    "    for j in s2:\n",
    "        l2.append(j)\n",
    "        l1.sort()\n",
    "        l2.sort()\n",
    "    if(l1 == l2):\n",
    "        print(\"YES\")\n",
    "    else:\n",
    "        print(\"NO\")\n",
    "        \n",
    "t = int(input())\n",
    "for i in range(t):\n",
    "    s = input()\n",
    "    l = s.split()\n",
    "\n",
    "    s1 = l[0]\n",
    "    s2 = l[1]\n",
    "    \n",
    "string(s1, s2)\n"
   ]
  },
  {
   "cell_type": "code",
   "execution_count": null,
   "metadata": {},
   "outputs": [],
   "source": []
  }
 ],
 "metadata": {
  "kernelspec": {
   "display_name": "Python 3",
   "language": "python",
   "name": "python3"
  },
  "language_info": {
   "codemirror_mode": {
    "name": "ipython",
    "version": 3
   },
   "file_extension": ".py",
   "mimetype": "text/x-python",
   "name": "python",
   "nbconvert_exporter": "python",
   "pygments_lexer": "ipython3",
   "version": "3.7.3"
  }
 },
 "nbformat": 4,
 "nbformat_minor": 2
}
