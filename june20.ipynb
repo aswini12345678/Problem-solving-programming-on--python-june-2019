{
 "cells": [
  {
   "cell_type": "markdown",
   "metadata": {},
   "source": [
    "### Regular Expressions\n",
    "\n",
    "- pattern matching\n",
    "- Symbolic Notation of a pattern\n",
    "    - Pattern : Format which repeats\n",
    "    - pattern(RE) - it rpresents the set of all values/strings matches that pattern\n",
    "- [0-9] -> Any digit \n",
    "- [a-z] -> Any lowercase alphabet\n",
    "- [2468] -> all single digit multiples of 2\n",
    "- [8642]\n",
    "\n",
    "- ^[0-9]{1}$ -> only single digit numbers\n",
    "\n",
    "- ^[0-9]{3}$ -> only 3 digit number.\n",
    ".\n",
    ".\n",
    "- ^[0-9]{n}$ -> only n digit number.\n",
    "\n",
    "- if we add $ then it wont highlight the whole string if it doesnot matches n.\n",
    "\n",
    "- if we remove $ then it will highlight the string lenth which matches n.\n",
    "\n",
    "- if we add ^ the same concept with last n digits highlight\n",
    "\n",
    "- ^[0-9]*0$  -> All multiples of 10 (* represent anylength of a digit)\n",
    "\n",
    "- ^[1-9][0-9]*0$ -> all multiples of 10 except single 0 can be highlighted\n",
    "\n",
    "- ^([1-9][0-9]*[05])$|^[5]$  -> multiples of 5\n",
    "\n",
    "- ^[1-9][0-9]{9}$    all 10 digit numbers\n",
    "\n",
    "- [w][o][r][d] or (word) -> searching for a word\n",
    "\n",
    "- ^[9876][0-9]{9}$ or ^[6-9][0-9]{9} / ^[6-9][0-9]{9}$|^[0][6-9][0-9]{9}  validating phone number(India)(start with 9 \n",
    "\n",
    "-  ^[6-9][0-9]{9}$|^[0][6-9][0-9]{9}|^[+][9][1][6-9][0-9]{9} -> +91 starting numbers\n",
    "\n",
    "     ^[a-z]{10}@Email validation(username@domain)\n",
    "        \n",
    "- ^[0-9a-z][0-9a-z_.]{4,13}[0-9a-z]$    - username - length [6, 15]\n",
    "                    - no special charecres other than _ .\n",
    "                    - should not begin/end with _ .\n",
    "                    - charecter set : all digits and lowercase alphabet\n",
    "                     \n",
    "        \n",
    "        - domain   - length [3, 15]\n",
    "                   - No special charecters\n",
    "                   - charecter set : all digits and lowercase alphabet\n",
    "        \n",
    "        - extension- length [2, 4]\n",
    "                   - No special charecters\n",
    "                   - Charecter set : alphabet\n",
    " - ^[0-9a-z][0-9a-z_.]{4,13}[0-9a-z][@a-z]{3,15}[.a-z]{2,4}$\n",
    " \n",
    " - ^[0-9a-z][0-9a-z_.]{4,13}[0-9a-z][@][a-z0-9]{3,15}[.][a-z]{2,4}$\n",
    "\n",
    "- \"*\" 0 or more\n",
    "\n",
    "- \"+\" 1 or more\n",
    "\n",
    "-  \"?\" yes or no\n",
    "\n",
    "^[a]...[z]$  - any String of length 5 starting with a ending with z \n",
    "\n",
    " ^[a].*[z]$  - any string with any length starting with a and ending with z\n",
    "\n"
   ]
  },
  {
   "cell_type": "markdown",
   "metadata": {},
   "source": [
    "### Function to validate a phone number in python\n",
    "\n",
    "* import regular expressions\n"
   ]
  },
  {
   "cell_type": "code",
   "execution_count": 4,
   "metadata": {},
   "outputs": [
    {
     "name": "stdout",
     "output_type": "stream",
     "text": [
      "invalid number\n"
     ]
    }
   ],
   "source": [
    "import re\n",
    "\n",
    "def phonenumbervalidator(number):\n",
    "    pattern = '^[6-9][0-9]{9}$|^[0][6-9][0-9]{9}'\n",
    "    if re.match(pattern, str(number)):\n",
    "        print(\"valid number\")\n",
    "    else:\n",
    "        print(\"invalid number\")\n",
    "    return\n",
    "\n",
    "phonenumbervalidator(5492593144)"
   ]
  },
  {
   "cell_type": "code",
   "execution_count": null,
   "metadata": {},
   "outputs": [],
   "source": []
  },
  {
   "cell_type": "code",
   "execution_count": 4,
   "metadata": {},
   "outputs": [
    {
     "ename": "SyntaxError",
     "evalue": "invalid syntax (<ipython-input-4-85b2b188805c>, line 5)",
     "output_type": "error",
     "traceback": [
      "\u001b[1;36m  File \u001b[1;32m\"<ipython-input-4-85b2b188805c>\"\u001b[1;36m, line \u001b[1;32m5\u001b[0m\n\u001b[1;33m    if name not in contacts and phonenumbervalidator(phone)\u001b[0m\n\u001b[1;37m                                                           ^\u001b[0m\n\u001b[1;31mSyntaxError\u001b[0m\u001b[1;31m:\u001b[0m invalid syntax\n"
     ]
    }
   ],
   "source": []
  },
  {
   "cell_type": "code",
   "execution_count": null,
   "metadata": {},
   "outputs": [],
   "source": []
  },
  {
   "cell_type": "code",
   "execution_count": 30,
   "metadata": {},
   "outputs": [
    {
     "name": "stdout",
     "output_type": "stream",
     "text": [
      "name1 : [9492593144, 'abcdef@gmail.com']\n"
     ]
    }
   ],
   "source": [
    "def searchcontacts(name):\n",
    "    if name in contacts:\n",
    "        print(name, \":\", contacts[name])\n",
    "    else:\n",
    "        print(\"%s does not exist\" % name)\n",
    "    return\n",
    "searchcontacts(\"name1\")"
   ]
  },
  {
   "cell_type": "code",
   "execution_count": 32,
   "metadata": {},
   "outputs": [
    {
     "name": "stdout",
     "output_type": "stream",
     "text": [
      "1 contacts added successfully\n"
     ]
    },
    {
     "data": {
      "text/plain": [
       "{'name1': [9492593144, 'abcdef@gmail.com'],\n",
       " 'name4': [9753108642, 'name4_123@gmail.com']}"
      ]
     },
     "execution_count": 32,
     "metadata": {},
     "output_type": "execute_result"
    }
   ],
   "source": [
    "def importcontacts(newcontacts):\n",
    "    contacts.update(newcontacts)\n",
    "    print(len(newcontacts.keys()), \"contacts added successfully\")\n",
    "    return\n",
    "\n",
    "newcontacts = {\"name2\":9876543210, \"name3\":6543471296}\n",
    "\n",
    "importcontacts(newcontacts)\n",
    "contacts"
   ]
  },
  {
   "cell_type": "code",
   "execution_count": 27,
   "metadata": {},
   "outputs": [
    {
     "data": {
      "text/plain": [
       "True"
      ]
     },
     "execution_count": 27,
     "metadata": {},
     "output_type": "execute_result"
    }
   ],
   "source": [
    "import re\n",
    "\n",
    "def phonenumbervalidator(number):\n",
    "    pattern = '^[6-9][0-9]{9}$|^[0][6-9][0-9]{9}'\n",
    "    if re.match(pattern, str(number)):\n",
    "        return True\n",
    "    return False\n",
    "phonenumbervalidator(9492593144)\n",
    "\n",
    "        \n",
    "    \n"
   ]
  },
  {
   "cell_type": "code",
   "execution_count": 9,
   "metadata": {},
   "outputs": [
    {
     "data": {
      "text/plain": [
       "True"
      ]
     },
     "execution_count": 9,
     "metadata": {},
     "output_type": "execute_result"
    }
   ],
   "source": [
    "import re\n",
    "\n",
    "def emailvalidator(email):\n",
    "    pattern = \"^[0-9a-z][0-9a-z_.]{4,13}[0-9a-z][@][a-z0-9]{3,15}[.][a-z]{2,4}$\"\n",
    "    if re.match(pattern, email):\n",
    "        return True\n",
    "    return False\n",
    "\n",
    "emailvalidator(\"abcdef@gmail.com\")"
   ]
  },
  {
   "cell_type": "code",
   "execution_count": 29,
   "metadata": {},
   "outputs": [
    {
     "name": "stdout",
     "output_type": "stream",
     "text": [
      "name1 added successfully\n"
     ]
    }
   ],
   "source": [
    "contacts = {}\n",
    "\n",
    "def addcontact(name, phone, email):\n",
    "    #verify that the contact doesnot alresdy exists\n",
    "    if name in contacts:\n",
    "        print(name, \"name already exists\")\n",
    "    else:\n",
    "        if not phonenumbervalidator(phone):\n",
    "            print(\"invalid phone number\")\n",
    "            return\n",
    "        if not emailvalidator(email):\n",
    "            print(\"invalid email address\")\n",
    "            return\n",
    "        newcontact = []\n",
    "        newcontact.append(phone)\n",
    "        newcontact.append(email)\n",
    "        contacts[name] = newcontact\n",
    "        print(name, \"added successfully\")\n",
    "    return\n",
    "addcontact(\"name1\", 9492593144, \"abcdef@gmail.com\")\n",
    "\n",
    "\n"
   ]
  },
  {
   "cell_type": "code",
   "execution_count": 31,
   "metadata": {},
   "outputs": [
    {
     "name": "stdout",
     "output_type": "stream",
     "text": [
      "name1\n",
      "phone : 9492593144\n",
      "email : abcdef@gmail.com\n"
     ]
    }
   ],
   "source": [
    "def searchcontacts(name):\n",
    "    if name in contacts:\n",
    "        print(name)\n",
    "        print(\"phone :\", contacts[name][0])\n",
    "        print(\"email :\", contacts[name][1])\n",
    "    else:\n",
    "        print(\"%s does not exist\" % name)\n",
    "    return\n",
    "searchcontacts(\"name1\")"
   ]
  },
  {
   "cell_type": "code",
   "execution_count": 34,
   "metadata": {},
   "outputs": [
    {
     "name": "stdout",
     "output_type": "stream",
     "text": [
      "1 contacts added successfully\n"
     ]
    },
    {
     "data": {
      "text/plain": [
       "{'name1': [9492593144, 'abcdef@gmail.com'],\n",
       " 'name4': [9753108642, 'name4_123@gmail.com']}"
      ]
     },
     "execution_count": 34,
     "metadata": {},
     "output_type": "execute_result"
    }
   ],
   "source": [
    "def importcontacts(newcontacts):\n",
    "    contacts.update(newcontacts)\n",
    "    print(len(newcontacts.keys()), \"contacts added successfully\")\n",
    "    return\n",
    "\n",
    "newcontacts = {\"name4\":[9753108642, \"name4_123@gmail.com\"]}\n",
    "\n",
    "importcontacts(newcontacts)\n",
    "contacts"
   ]
  },
  {
   "cell_type": "code",
   "execution_count": 41,
   "metadata": {},
   "outputs": [
    {
     "ename": "SyntaxError",
     "evalue": "invalid syntax (<ipython-input-41-13bbcb961899>, line 3)",
     "output_type": "error",
     "traceback": [
      "\u001b[1;36m  File \u001b[1;32m\"<ipython-input-41-13bbcb961899>\"\u001b[1;36m, line \u001b[1;32m3\u001b[0m\n\u001b[1;33m    print(contact, \"\\n\", \"phone :\", info[0], \"\\n\", \"Email\":, info[1], \"\\n\")\u001b[0m\n\u001b[1;37m                                                          ^\u001b[0m\n\u001b[1;31mSyntaxError\u001b[0m\u001b[1;31m:\u001b[0m invalid syntax\n"
     ]
    }
   ],
   "source": [
    "def listallcontacts():\n",
    "    for contact, info in contacts.items():\n",
    "        print(contact, \"\\n\", \"phone :\", info[0], \"\\n\", \"Email\":, info[1], \"\\n\")\n",
    "    return    \n",
    "listallcontacts()"
   ]
  },
  {
   "cell_type": "code",
   "execution_count": null,
   "metadata": {},
   "outputs": [],
   "source": [
    "# Function to contact  information"
   ]
  },
  {
   "cell_type": "code",
   "execution_count": null,
   "metadata": {},
   "outputs": [],
   "source": []
  },
  {
   "cell_type": "markdown",
   "metadata": {},
   "source": [
    "### File Handling in python\n",
    "\n",
    "File - Document containing some information residing on the permanent storage\n",
    "Types - Text, PDF, CSV, image files\n",
    "\n",
    "File I/O - Channelling I/O data to files\n",
    "Default I/O channels - Keyboard / Screen\n",
    "\n",
    "Change I/O channel to files for reading and writing into files\n",
    "\n",
    "Read a file - Input\n",
    "Write to a file - Output to a file\n",
    "\n",
    "Read/write a file - Open(filename, mode)\n",
    "\n",
    "\n",
    "\n"
   ]
  },
  {
   "cell_type": "code",
   "execution_count": 45,
   "metadata": {},
   "outputs": [
    {
     "data": {
      "text/plain": [
       "'line1\\nline2\\nline3'"
      ]
     },
     "execution_count": 45,
     "metadata": {},
     "output_type": "execute_result"
    }
   ],
   "source": [
    "# Function to read a file\n",
    "\n",
    "def readfile(filename):\n",
    "    f = open(filename, 'r')\n",
    "    filedata = f.read()\n",
    "    f.close()\n",
    "    return filedata\n",
    "\n",
    "filename = 'datafiles/data.txt'\n",
    "readfile(filename)"
   ]
  },
  {
   "cell_type": "code",
   "execution_count": 44,
   "metadata": {},
   "outputs": [
    {
     "data": {
      "text/plain": [
       "['line1', 'line2', 'line3']"
      ]
     },
     "execution_count": 44,
     "metadata": {},
     "output_type": "execute_result"
    }
   ],
   "source": [
    "def readfile(filename):\n",
    "    f = open(filename, 'r')\n",
    "    filedata = f.read()\n",
    "    f.close()\n",
    "    return filedata\n",
    "\n",
    "filename = 'datafiles/data.txt'\n",
    "readfile(filename).split('\\n')"
   ]
  },
  {
   "cell_type": "code",
   "execution_count": 47,
   "metadata": {},
   "outputs": [
    {
     "name": "stdout",
     "output_type": "stream",
     "text": [
      "line1\n",
      "line2\n",
      "line3\n"
     ]
    }
   ],
   "source": [
    "def readfile(filename):\n",
    "    f = open(filename, 'r')\n",
    "    filedata = f.read()\n",
    "    f.close()\n",
    "    return filedata\n",
    "\n",
    "filename = 'datafiles/data.txt'\n",
    "filedata = readfile(filename)\n",
    "for line in filedata.split('\\n'):\n",
    "    print(line)\n"
   ]
  },
  {
   "cell_type": "code",
   "execution_count": 48,
   "metadata": {},
   "outputs": [
    {
     "name": "stdout",
     "output_type": "stream",
     "text": [
      "line1\n",
      "\n",
      "line2\n",
      "\n",
      "line3\n"
     ]
    }
   ],
   "source": [
    "def readfile(filename):\n",
    "    f = open(filename, 'r')\n",
    "    filedata = f.read()\n",
    "    f.close()\n",
    "    return filedata\n",
    "\n",
    "filename = 'datafiles/data.txt'\n",
    "filedata = readfile(filename)\n",
    "#for line in filedata.split('\\n'):\n",
    " #   print(line)\n",
    "    \n",
    "def printfiledatalines(filename):\n",
    "    f = open(filename, 'r')\n",
    "    for line in f:\n",
    "        print(line)\n",
    "    return\n",
    "\n",
    "printfiledatalines(filename)\n"
   ]
  },
  {
   "cell_type": "code",
   "execution_count": 49,
   "metadata": {},
   "outputs": [
    {
     "name": "stdout",
     "output_type": "stream",
     "text": [
      "line1\n",
      "line2\n",
      "line3"
     ]
    }
   ],
   "source": [
    "def readfile(filename):\n",
    "    f = open(filename, 'r')\n",
    "    filedata = f.read()\n",
    "    f.close()   # or use with at open()\n",
    "    return filedata\n",
    "\n",
    "filename = 'datafiles/data.txt'\n",
    "filedata = readfile(filename)\n",
    "#for line in filedata.split('\\n'):\n",
    " #   print(line)\n",
    "    \n",
    "def printfiledatalines(filename):\n",
    "    f = open(filename, 'r')\n",
    "    for line in f:\n",
    "        print(line, end='')\n",
    "    return\n",
    "\n",
    "printfiledatalines(filename)\n"
   ]
  },
  {
   "cell_type": "code",
   "execution_count": 55,
   "metadata": {},
   "outputs": [],
   "source": [
    "# Function to write data into a file\n",
    "\n",
    "def writeintofile(filename, filedata):\n",
    "    with open(filename, 'w') as f:\n",
    "        f.write(filedata)\n",
    "    return\n",
    "filename = 'Datafiles/data.txt'\n",
    "\n",
    "writeintofile(filename, \"new data\\n\")\n",
    "    "
   ]
  },
  {
   "cell_type": "code",
   "execution_count": 56,
   "metadata": {},
   "outputs": [],
   "source": [
    "# Function to append data to a file\n",
    "\n",
    "def appenddatatofile(filename, filedata):\n",
    "    with open(filename, 'a') as f:\n",
    "        f.write(filedata)\n",
    "    return\n",
    "\n",
    "filedata = \"line2\\nline3\"\n",
    "appenddatatofile(filename, filedata)"
   ]
  },
  {
   "cell_type": "code",
   "execution_count": 58,
   "metadata": {},
   "outputs": [],
   "source": [
    "def appenddatatofile(filename, filedata):\n",
    "    with open(filename, 'a') as f:\n",
    "        for line in filedata:\n",
    "            f.write('\\n'+line)\n",
    "    return\n",
    "\n",
    "filedata = [\"line4\", \"line5\"]\n",
    "appenddatatofile(filename, filedata)"
   ]
  },
  {
   "cell_type": "code",
   "execution_count": null,
   "metadata": {},
   "outputs": [],
   "source": [
    "def editcontacts(contacts):\n",
    "    if name in contacts:\n",
    "        "
   ]
  }
 ],
 "metadata": {
  "kernelspec": {
   "display_name": "Python 3",
   "language": "python",
   "name": "python3"
  },
  "language_info": {
   "codemirror_mode": {
    "name": "ipython",
    "version": 3
   },
   "file_extension": ".py",
   "mimetype": "text/x-python",
   "name": "python",
   "nbconvert_exporter": "python",
   "pygments_lexer": "ipython3",
   "version": "3.7.3"
  }
 },
 "nbformat": 4,
 "nbformat_minor": 2
}
