{
 "cells": [
  {
   "cell_type": "code",
   "execution_count": 3,
   "metadata": {},
   "outputs": [
    {
     "name": "stdout",
     "output_type": "stream",
     "text": [
      "line\n"
     ]
    }
   ],
   "source": [
    "# Function to read file\n",
    "\n",
    "def readfile(filename):\n",
    "    f = open(filename, 'r')\n",
    "    filedata = f.read()\n",
    "    f.close()\n",
    "    return filedata\n",
    "\n",
    "filename = 'datafiles/contacts.txt'\n",
    "filedata = readfile(filename)\n",
    "for file in readfile(filename).split('\\n'):\n",
    "    print(line)"
   ]
  },
  {
   "cell_type": "code",
   "execution_count": 4,
   "metadata": {},
   "outputs": [],
   "source": [
    "def writeintofile(filename, filedata):\n",
    "    with open(filename, 'w') as f:\n",
    "        f.write(filedata)\n",
    "    return\n",
    "filename = 'Datafiles/contacts.txt'\n",
    "\n",
    "writeintofile(filename, \"new data\\n\")"
   ]
  },
  {
   "cell_type": "code",
   "execution_count": 5,
   "metadata": {},
   "outputs": [],
   "source": [
    "def appenddatatofile(filename, filedata):\n",
    "    with open(filename, 'a') as f:\n",
    "        f.write(filedata)\n",
    "    return\n",
    "\n",
    "filedata = \"iiit\\ncollege\"\n",
    "appenddatatofile(filename, filedata)"
   ]
  },
  {
   "cell_type": "code",
   "execution_count": 6,
   "metadata": {},
   "outputs": [
    {
     "ename": "NameError",
     "evalue": "name 'line' is not defined",
     "output_type": "error",
     "traceback": [
      "\u001b[1;31m---------------------------------------------------------------------------\u001b[0m",
      "\u001b[1;31mNameError\u001b[0m                                 Traceback (most recent call last)",
      "\u001b[1;32m<ipython-input-6-ffdb9ffa7720>\u001b[0m in \u001b[0;36m<module>\u001b[1;34m\u001b[0m\n\u001b[0;32m      8\u001b[0m \u001b[0mfiledata\u001b[0m \u001b[1;33m=\u001b[0m \u001b[0mreadfile\u001b[0m\u001b[1;33m(\u001b[0m\u001b[0mfilename\u001b[0m\u001b[1;33m)\u001b[0m\u001b[1;33m\u001b[0m\u001b[1;33m\u001b[0m\u001b[0m\n\u001b[0;32m      9\u001b[0m \u001b[1;32mfor\u001b[0m \u001b[0mfile\u001b[0m \u001b[1;32min\u001b[0m \u001b[0mreadfile\u001b[0m\u001b[1;33m(\u001b[0m\u001b[0mfilename\u001b[0m\u001b[1;33m)\u001b[0m\u001b[1;33m.\u001b[0m\u001b[0msplit\u001b[0m\u001b[1;33m(\u001b[0m\u001b[1;34m'\\n'\u001b[0m\u001b[1;33m)\u001b[0m\u001b[1;33m:\u001b[0m\u001b[1;33m\u001b[0m\u001b[1;33m\u001b[0m\u001b[0m\n\u001b[1;32m---> 10\u001b[1;33m     \u001b[0mprint\u001b[0m\u001b[1;33m(\u001b[0m\u001b[0mline\u001b[0m\u001b[1;33m)\u001b[0m\u001b[1;33m\u001b[0m\u001b[1;33m\u001b[0m\u001b[0m\n\u001b[0m",
      "\u001b[1;31mNameError\u001b[0m: name 'line' is not defined"
     ]
    }
   ],
   "source": [
    "def readfile(filename):\n",
    "    f = open(filename, 'r')\n",
    "    filedata = f.read()\n",
    "    f.close()\n",
    "    return filedata\n",
    "\n",
    "filename = 'datafiles/contacts.txt'\n",
    "filedata = readfile(filename)\n",
    "for file in readfile(filename).split('\\n'):\n",
    "    print(line)"
   ]
  },
  {
   "cell_type": "code",
   "execution_count": null,
   "metadata": {},
   "outputs": [],
   "source": [
    "# Function to find product\n",
    "\n",
    "def findp"
   ]
  },
  {
   "cell_type": "code",
   "execution_count": 10,
   "metadata": {},
   "outputs": [
    {
     "name": "stdout",
     "output_type": "stream",
     "text": [
      "invalid phone number\n"
     ]
    }
   ],
   "source": [
    "# Function to add contact\n",
    "\n",
    "from Packages.validators import phonenumbervalidator as pnv, emailvalidator as ev\n",
    "\n",
    "def addcontact(name,phone,email):\n",
    "    # store data as name,phone,email in the contacts file \n",
    "    \n",
    "    filename = 'datafiles/contacts.txt'\n",
    "    if not checkcontactexists(name):\n",
    "        if pnv(phone) and ev(email):\n",
    "            with open(filename, 'a') as f:\n",
    "                line = name + ',' + str(phone) + ',' + email + '\\n'\n",
    "                f.write(line)\n",
    "            print(name, 'added to contacts')\n",
    "        else:\n",
    "            print('invalid phone number')\n",
    "        return\n",
    "    else:\n",
    "        print(name, \"already exists\")\n",
    "    return\n",
    "    \n",
    "    \n",
    "\n",
    "import re\n",
    "# Define a function to check if contact alredy exists\n",
    "\n",
    "def checkcontactexists(name):\n",
    "    filename = 'datafiles/contacts.txt'\n",
    "    with open(filename, 'r')as f:\n",
    "        filedata = f.read()\n",
    "        pattern = name+','\n",
    "    return re.search(pattern, filedata)       \n",
    "addcontact('name1', 1234238,  'adf')\n",
    "\n",
    "        \n",
    "        "
   ]
  },
  {
   "cell_type": "code",
   "execution_count": null,
   "metadata": {},
   "outputs": [],
   "source": [
    "filename = 'datafiles/contacts.txt'\n",
    "def contactstolist(contacts):\n",
    "    with open(filename, \"r\") as f:\n",
    "        for line in f:\n",
    "            li.append(line.split(','))\n",
    "    return li\n",
    "\n",
    "\n",
    "def listtofile(li):\n",
    "     s = ' '\n",
    "    for i in li:\n",
    "        s.join(i)\n",
    "    return s\n",
    "\n",
    "li = csvtolist(filename)\n",
    "listtofile\n",
    "\n",
    "csvtolist(filename)\n",
    "    "
   ]
  },
  {
   "cell_type": "code",
   "execution_count": null,
   "metadata": {},
   "outputs": [],
   "source": []
  },
  {
   "cell_type": "code",
   "execution_count": 4,
   "metadata": {},
   "outputs": [
    {
     "name": "stdout",
     "output_type": "stream",
     "text": [
      "4\n",
      "10\n",
      "18\n",
      "28\n"
     ]
    }
   ],
   "source": [
    "# Function to find product\n",
    "\n",
    "def findproduct(mylist):\n",
    "    sum = 0\n",
    "    for i in range(mylist):\n",
    "        product = i * mylist[0]\n",
    "        i = i + 1\n",
    "        sum = sum + product\n",
    "        print(sum)\n",
    "        \n",
    "findproduct(2, 6)        \n",
    "        \n",
    "        "
   ]
  },
  {
   "cell_type": "markdown",
   "metadata": {},
   "source": [
    "###  program to find product"
   ]
  },
  {
   "cell_type": "code",
   "execution_count": 1,
   "metadata": {},
   "outputs": [
    {
     "name": "stdout",
     "output_type": "stream",
     "text": [
      "5\n",
      "1 2 3 4 5\n",
      "120\n"
     ]
    }
   ],
   "source": [
    "n = int(input())\n",
    "a=input().split()\n",
    "k=1\n",
    "li=[]\n",
    "for i in a:\n",
    "    li.append(int(i))\n",
    "for s in li:\n",
    "    k=(k*s)%(10**9+7)\n",
    "print(k)\n",
    "    \n",
    "    #result = result*int(i)\n",
    "    \n",
    "        \n",
    "#print (result)"
   ]
  },
  {
   "cell_type": "code",
   "execution_count": null,
   "metadata": {},
   "outputs": [],
   "source": [
    " userInput = raw_input(\"Please select an option: \").lower()\n",
    "\n",
    "        # OPTION 1 : ADD NEW CONTACT\n",
    "        if userInput == \"a\":\n",
    "            contact = collections.OrderedDict()\n",
    "\n",
    "            contact['name'] = raw_input(\"Enter name: \")\n",
    "            contact['phone'] = raw_input(\"Enter phone: \")\n",
    "            contact['email'] = raw_input(\"Enter email: \")\n",
    "\n",
    "            contacts.append(contact)\n",
    "\n",
    "            print \"Contact Added!\"\n",
    "            # For Debugging Purposes\n",
    "            # print(contacts)\n",
    "\n",
    "        # OPTION 2 : LIST ALL CONTACTS\n",
    "        elif userInput == \"b\":\n",
    "            print \"Listing Contacts\"\n",
    "\n",
    "            for i in contacts:\n",
    "                print i\n",
    "                # Want to display all contacts into a neat table\n",
    "\n",
    "        # OPTION 3 : SEARCH CONTACTS\n",
    "        elif userInput == \"c\":\n",
    "            print \"Searching Contacts\"\n",
    "            search = raw_input(\"Please enter name: \")\n",
    "            # Want to be able to search contacts by name, phone number or email"
   ]
  },
  {
   "cell_type": "code",
   "execution_count": null,
   "metadata": {},
   "outputs": [],
   "source": [
    "\n",
    "from Packages.validators import phonenumbervalidator as pnv, emailvalidator as ev\n",
    "\n",
    "def searchcontacts(name,phone,email):\n",
    "    # store data as name,phone,email in the contacts file \n",
    "    \n",
    "    filename = 'datafiles/contacts.txt'\n",
    "    if not checkcontactexists(name):\n",
    "        if pnv(phone) and ev(email):\n",
    "            with open(filename, 'a') as f:\n",
    "                line = name + ',' + str(phone) + ',' + email + '\\n'\n",
    "                f.write(line)\n",
    "            print(name, 'added to contacts')\n",
    "        else:\n",
    "            print('invalid phone number')\n",
    "        return\n",
    "    else:\n",
    "        print(name, \"already exists\")\n",
    "    return\n",
    "    \n",
    "    \n",
    "\n",
    "import re\n",
    "# Define a function to check if contact alredy exists\n",
    "\n",
    "def checkcontactexists(name):\n",
    "    filename = 'datafiles/contacts.txt'\n",
    "    with open(filename, 'r')as f:\n",
    "        filedata = f.read()\n",
    "        pattern = name+','\n",
    "    return re.search(pattern, filedata)       \n",
    "addcontact('name1', 1234238,  'adf')\n"
   ]
  },
  {
   "cell_type": "code",
   "execution_count": 2,
   "metadata": {},
   "outputs": [],
   "source": [
    "def readcontact():\n",
    "    contact = []\n",
    "    with open(filename, 'r') as f:\n",
    "        for line in f:\n",
    "            contact.append(line.split(','))\n",
    "            return contcat\n",
    "    "
   ]
  },
  {
   "cell_type": "code",
   "execution_count": 41,
   "metadata": {},
   "outputs": [
    {
     "ename": "NameError",
     "evalue": "name 'name' is not defined",
     "output_type": "error",
     "traceback": [
      "\u001b[1;31m---------------------------------------------------------------------------\u001b[0m",
      "\u001b[1;31mNameError\u001b[0m                                 Traceback (most recent call last)",
      "\u001b[1;32m<ipython-input-41-027ea97c7db0>\u001b[0m in \u001b[0;36m<module>\u001b[1;34m\u001b[0m\n\u001b[0;32m     11\u001b[0m         \u001b[0mprint\u001b[0m\u001b[1;33m(\u001b[0m\u001b[0mname\u001b[0m \u001b[1;33m,\u001b[0m\u001b[1;34m\"contact doesnot exists\"\u001b[0m\u001b[1;33m)\u001b[0m\u001b[1;33m\u001b[0m\u001b[1;33m\u001b[0m\u001b[0m\n\u001b[0;32m     12\u001b[0m \u001b[1;33m\u001b[0m\u001b[0m\n\u001b[1;32m---> 13\u001b[1;33m \u001b[0msearchcontact\u001b[0m\u001b[1;33m(\u001b[0m\u001b[0mname\u001b[0m\u001b[1;33m)\u001b[0m\u001b[1;33m\u001b[0m\u001b[1;33m\u001b[0m\u001b[0m\n\u001b[0m\u001b[0;32m     14\u001b[0m \u001b[1;33m\u001b[0m\u001b[0m\n",
      "\u001b[1;31mNameError\u001b[0m: name 'name' is not defined"
     ]
    }
   ],
   "source": [
    "def searchcontact(name):\n",
    "    contact=readcontact()\n",
    "    for i in range(0, len(contact)):\n",
    "        if (contact[i][0]==name):\n",
    "            print(\"phone number: \",contact[i][1], \"email id: \",cotacts[i][2], \"print the contact and email id\")\n",
    "            c=1\n",
    "            break\n",
    "        else:   \n",
    "            c=0\n",
    "    if c==0:\n",
    "        print(name ,\"contact doesnot exists\")\n",
    "        \n",
    "searchcontact(name)\n",
    "        "
   ]
  },
  {
   "cell_type": "code",
   "execution_count": 3,
   "metadata": {},
   "outputs": [],
   "source": [
    "import re\n",
    "\n",
    "def searchcontact(name):\n",
    "    \n",
    "    filename = 'datafiles/contacts.txt'\n",
    "    with open(filename, 'r')as f:\n",
    "        filedata = f.read()\n",
    "        pattern = name+','\n",
    "    return re.search(pattern, filedata)\n",
    "if searchcontact('nam1'):\n",
    "    print(True)\n",
    "else:\n",
    "    False"
   ]
  },
  {
   "cell_type": "code",
   "execution_count": 30,
   "metadata": {},
   "outputs": [
    {
     "name": "stdout",
     "output_type": "stream",
     "text": [
      "name1 is in contact\n",
      "Phone number: 9492678771\n",
      "email id: abcdef@gmail.com\n",
      "\n"
     ]
    }
   ],
   "source": [
    "def searchcontacts(name):\n",
    "    l = []\n",
    "    \n",
    "    with open('datafiles/contacts.txt', 'r') as f:\n",
    "        for line in f:\n",
    "            l.append(line.split(','))\n",
    "            for i in range(0, len(l)):\n",
    "                if(l[i][0] == name):\n",
    "                    f=0\n",
    "                    p=l[i][1]\n",
    "                    e=l[i][2]\n",
    "        if f == 0:\n",
    "            print(\"%s is in contact\" %name)\n",
    "            print(\"Phone number:\",p)\n",
    "            print(\"email id:\",e)\n",
    "        else:\n",
    "            print(\"enter correct values\")\n",
    "                        \n",
    "                    \n",
    "searchcontacts(\"name1\")\n",
    "            "
   ]
  },
  {
   "cell_type": "code",
   "execution_count": 44,
   "metadata": {},
   "outputs": [
    {
     "name": "stdout",
     "output_type": "stream",
     "text": [
      "1 2 3 4 5\n"
     ]
    },
    {
     "ename": "ValueError",
     "evalue": "invalid literal for int() with base 10: '1 2 3 4 5'",
     "output_type": "error",
     "traceback": [
      "\u001b[1;31m---------------------------------------------------------------------------\u001b[0m",
      "\u001b[1;31mValueError\u001b[0m                                Traceback (most recent call last)",
      "\u001b[1;32m<ipython-input-44-7a7927000049>\u001b[0m in \u001b[0;36m<module>\u001b[1;34m\u001b[0m\n\u001b[1;32m----> 1\u001b[1;33m \u001b[0mn\u001b[0m \u001b[1;33m=\u001b[0m \u001b[0mint\u001b[0m\u001b[1;33m(\u001b[0m\u001b[0minput\u001b[0m\u001b[1;33m(\u001b[0m\u001b[1;33m)\u001b[0m\u001b[1;33m)\u001b[0m\u001b[1;33m\u001b[0m\u001b[1;33m\u001b[0m\u001b[0m\n\u001b[0m\u001b[0;32m      2\u001b[0m \u001b[0ma\u001b[0m \u001b[1;33m=\u001b[0m \u001b[0minput\u001b[0m\u001b[1;33m.\u001b[0m\u001b[0msplit\u001b[0m\u001b[1;33m(\u001b[0m\u001b[1;33m)\u001b[0m\u001b[1;33m\u001b[0m\u001b[1;33m\u001b[0m\u001b[0m\n\u001b[0;32m      3\u001b[0m \u001b[0mk\u001b[0m \u001b[1;33m=\u001b[0m \u001b[1;36m1\u001b[0m\u001b[1;33m\u001b[0m\u001b[1;33m\u001b[0m\u001b[0m\n\u001b[0;32m      4\u001b[0m \u001b[0mli\u001b[0m \u001b[1;33m=\u001b[0m \u001b[1;33m[\u001b[0m\u001b[1;33m]\u001b[0m\u001b[1;33m\u001b[0m\u001b[1;33m\u001b[0m\u001b[0m\n\u001b[0;32m      5\u001b[0m \u001b[1;32mfor\u001b[0m \u001b[0mi\u001b[0m \u001b[1;32min\u001b[0m \u001b[0ma\u001b[0m\u001b[1;33m:\u001b[0m\u001b[1;33m\u001b[0m\u001b[1;33m\u001b[0m\u001b[0m\n",
      "\u001b[1;31mValueError\u001b[0m: invalid literal for int() with base 10: '1 2 3 4 5'"
     ]
    }
   ],
   "source": [
    "n = int(input())\n",
    "a = input.split()\n",
    "k = 1\n",
    "li = []\n",
    "for i in a:\n",
    "    li.append(int(i))\n",
    "for s in li:\n",
    "    k = k * s\n",
    "print(k)\n",
    "        "
   ]
  },
  {
   "cell_type": "code",
   "execution_count": null,
   "metadata": {},
   "outputs": [],
   "source": []
  }
 ],
 "metadata": {
  "kernelspec": {
   "display_name": "Python 3",
   "language": "python",
   "name": "python3"
  },
  "language_info": {
   "codemirror_mode": {
    "name": "ipython",
    "version": 3
   },
   "file_extension": ".py",
   "mimetype": "text/x-python",
   "name": "python",
   "nbconvert_exporter": "python",
   "pygments_lexer": "ipython3",
   "version": "3.7.3"
  }
 },
 "nbformat": 4,
 "nbformat_minor": 2
}
