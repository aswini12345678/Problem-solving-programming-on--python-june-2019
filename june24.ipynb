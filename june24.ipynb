{
 "cells": [
  {
   "cell_type": "markdown",
   "metadata": {},
   "source": [
    "### Find and Replace\n",
    "\n",
    "* count the total number of occurances of a word\n",
    "* if word is existing\n",
    "* Replace all occurances of a word with another word\n",
    "\n",
    "### Marks analysis application\n",
    "\n",
    "* Generate marks file for n students\n",
    "* input : Markes text file, each line contains number of f\n",
    "* Generate a report with the fallowing information\n",
    "\n",
    "    -> class averaage\n",
    "    \n",
    "    -> % of students passed\n",
    "    \n",
    "    -> % of failed students\n",
    "    \n",
    "    -> % of students  with distinction\n",
    "    \n",
    "    -> Highest mark Frequency\n",
    "    \n",
    "    -> lowest mark Frequency\n"
   ]
  },
  {
   "cell_type": "code",
   "execution_count": 7,
   "metadata": {},
   "outputs": [],
   "source": [
    "\n",
    "\n",
    "        "
   ]
  },
  {
   "cell_type": "code",
   "execution_count": 4,
   "metadata": {},
   "outputs": [
    {
     "name": "stdout",
     "output_type": "stream",
     "text": [
      "new : 1\n",
      "data : 1\n",
      "line2 : 1\n",
      "line3 : 1\n",
      "line4 : 1\n",
      "line5 : 1\n",
      "god : 3\n",
      "is : 3\n",
      "great : 1\n",
      "and : 1\n",
      "name : 1\n",
      "rama.. : 1\n",
      "special : 1\n"
     ]
    }
   ],
   "source": [
    "# Find and Reaplace\n",
    "\n",
    "filepath='datafiles/data.txt'\n",
    "\n",
    "def uniquewords(filepath):\n",
    "    # create an empty unique list\n",
    "    # Dictionary to be used\n",
    "    # keys -> Unique words\n",
    "    # Values -> count of unique words\n",
    "    count = 0\n",
    "    unique=[]\n",
    "    with open(filepath, 'r') as f:\n",
    "        filedata = f.read().split()\n",
    "        for element in filedata:\n",
    "            k = element\n",
    "            if k not in unique:\n",
    "                unique.append(k)\n",
    "                for j in filedata:\n",
    "                    if k==j:\n",
    "                        count=count+1\n",
    "                print(k,\":\", count)\n",
    "                count = 0\n",
    "    return\n",
    "\n",
    "\n",
    "uniquewords(filepath)"
   ]
  },
  {
   "cell_type": "code",
   "execution_count": 8,
   "metadata": {},
   "outputs": [],
   "source": [
    "# Function to generate marks data for n students\n",
    "from random import randint\n",
    "\n",
    "def generatemarks(n, lb, ub):\n",
    "    with open('datafiles/marks.txt', 'w') as f:\n",
    "        for i in range(0, n):\n",
    "            r = randint(lb, ub)\n",
    "            f.write(str(r) + '\\n')\n",
    "    return\n",
    "\n",
    "generatemarks(50, 0, 100)"
   ]
  },
  {
   "cell_type": "code",
   "execution_count": null,
   "metadata": {},
   "outputs": [],
   "source": [
    "filepath='datafiles/data.txt'\n",
    "def replaceABwithC(input, pattern, replaceWith): \n",
    "    return input.replace(pattern, replaceWith) \n",
    "  \n",
    "# Driver program \n",
    "if __name__ == \"__main__\": \n",
    "    input   = 'helloABworld'\n",
    "    pattern = 'AB'\n",
    "    replaceWith = 'C'\n",
    "    print replaceABwithC(input,pattern,replaceWith) \n"
   ]
  },
  {
   "cell_type": "code",
   "execution_count": 3,
   "metadata": {},
   "outputs": [
    {
     "name": "stdout",
     "output_type": "stream",
     "text": [
      "234\n",
      "9\n"
     ]
    }
   ],
   "source": [
    " def sumdigits(N):\n",
    "    r = 0\n",
    "    r1 = 0\n",
    "    #for i in range(0, N):\n",
    "    while N>0:\n",
    "        r = N % 10\n",
    "        N = N // 10\n",
    "        r1 = r1 + r\n",
    "    print(r1)\n",
    "        \n",
    "N = int(input())\n",
    "sumdigits(N)\n",
    "            "
   ]
  },
  {
   "cell_type": "code",
   "execution_count": 6,
   "metadata": {},
   "outputs": [
    {
     "name": "stdout",
     "output_type": "stream",
     "text": [
      "234\n",
      "9\n"
     ]
    }
   ],
   "source": [
    " def sumdigits(N):\n",
    "    r = 0\n",
    "    r1 = 0\n",
    "    for i in range(0, N):\n",
    "        r = N % 10\n",
    "        N = N // 10\n",
    "        r1 = r1 + r\n",
    "    print(r1)\n",
    "        \n",
    "N = int(input())\n",
    "sumdigits(N)\n",
    "            "
   ]
  },
  {
   "cell_type": "code",
   "execution_count": null,
   "metadata": {},
   "outputs": [],
   "source": [
    "def countdigitfrequency(N):\n",
    "    count = 0\n",
    "    li = []\n",
    "    for i in range(0, N):\n",
    "        k = i\n",
    "        if k not in li:\n",
    "            li.append((k))\n",
    "            for j in li:\n",
    "                if j == k: \n",
    "                    count = count + 1\n",
    "                else:\n",
    "                    count = 1\n",
    "    return count\n",
    "N = int(input())\n",
    "countdigitfrequency(N)\n",
    "\n",
    "        \n",
    "        "
   ]
  },
  {
   "cell_type": "code",
   "execution_count": 3,
   "metadata": {},
   "outputs": [
    {
     "ename": "AttributeError",
     "evalue": "'str' object has no attribute 'isidgit'",
     "output_type": "error",
     "traceback": [
      "\u001b[1;31m---------------------------------------------------------------------------\u001b[0m",
      "\u001b[1;31mAttributeError\u001b[0m                            Traceback (most recent call last)",
      "\u001b[1;32m<ipython-input-3-47278d4ec6cb>\u001b[0m in \u001b[0;36m<module>\u001b[1;34m\u001b[0m\n\u001b[0;32m     20\u001b[0m             \u001b[0mprint\u001b[0m\u001b[1;33m(\u001b[0m\u001b[0mcount\u001b[0m\u001b[1;33m,\u001b[0m \u001b[0mend\u001b[0m\u001b[1;33m=\u001b[0m\u001b[1;34m' '\u001b[0m\u001b[1;33m)\u001b[0m\u001b[1;33m\u001b[0m\u001b[1;33m\u001b[0m\u001b[0m\n\u001b[0;32m     21\u001b[0m \u001b[1;33m\u001b[0m\u001b[0m\n\u001b[1;32m---> 22\u001b[1;33m \u001b[0mdigitfrequency1\u001b[0m\u001b[1;33m(\u001b[0m\u001b[1;34m'213abc456def111'\u001b[0m\u001b[1;33m)\u001b[0m\u001b[1;33m\u001b[0m\u001b[1;33m\u001b[0m\u001b[0m\n\u001b[0m\u001b[0;32m     23\u001b[0m \u001b[1;33m\u001b[0m\u001b[0m\n",
      "\u001b[1;32m<ipython-input-3-47278d4ec6cb>\u001b[0m in \u001b[0;36mdigitfrequency1\u001b[1;34m(s)\u001b[0m\n\u001b[0;32m      9\u001b[0m     \u001b[0mallnumbers\u001b[0m \u001b[1;33m=\u001b[0m \u001b[1;33m[\u001b[0m\u001b[1;33m]\u001b[0m\u001b[1;33m\u001b[0m\u001b[1;33m\u001b[0m\u001b[0m\n\u001b[0;32m     10\u001b[0m     \u001b[1;32mfor\u001b[0m \u001b[0mi\u001b[0m \u001b[1;32min\u001b[0m \u001b[0ms\u001b[0m\u001b[1;33m:\u001b[0m\u001b[1;33m\u001b[0m\u001b[1;33m\u001b[0m\u001b[0m\n\u001b[1;32m---> 11\u001b[1;33m         \u001b[1;32mif\u001b[0m \u001b[0mi\u001b[0m\u001b[1;33m.\u001b[0m\u001b[0misidgit\u001b[0m\u001b[1;33m(\u001b[0m\u001b[1;33m)\u001b[0m\u001b[1;33m:\u001b[0m\u001b[1;33m\u001b[0m\u001b[1;33m\u001b[0m\u001b[0m\n\u001b[0m\u001b[0;32m     12\u001b[0m             \u001b[0mallnumbers\u001b[0m\u001b[1;33m.\u001b[0m\u001b[0mappend\u001b[0m\u001b[1;33m(\u001b[0m\u001b[0mi\u001b[0m\u001b[1;33m)\u001b[0m\u001b[1;33m\u001b[0m\u001b[1;33m\u001b[0m\u001b[0m\n\u001b[0;32m     13\u001b[0m     \u001b[0munique\u001b[0m \u001b[1;33m=\u001b[0m \u001b[0muniquedata\u001b[0m\u001b[1;33m(\u001b[0m\u001b[0mallnumbers\u001b[0m\u001b[1;33m)\u001b[0m\u001b[1;33m\u001b[0m\u001b[1;33m\u001b[0m\u001b[0m\n",
      "\u001b[1;31mAttributeError\u001b[0m: 'str' object has no attribute 'isidgit'"
     ]
    }
   ],
   "source": [
    "def uniquedata(allnumbers):\n",
    "    unique = []\n",
    "    for n in allnumbers:\n",
    "        if n not in unique:\n",
    "            unique.append(n)\n",
    "    return unique\n",
    "\n",
    "def digitfrequency1(s):\n",
    "    allnumbers = []\n",
    "    for i in s:\n",
    "        if i.isidgit():\n",
    "            allnumbers.append(i)\n",
    "    unique = uniquedata(allnumbers)\n",
    "    \n",
    "    for i in range(0, 10):\n",
    "        if i not in unique:\n",
    "            print(0, end=' ')\n",
    "        else:\n",
    "            count = allnumbers.count(str(i))\n",
    "            print(count, end=' ')\n",
    "            \n",
    "digitfrequency1('213abc456def111')\n",
    "\n"
   ]
  },
  {
   "cell_type": "code",
   "execution_count": null,
   "metadata": {},
   "outputs": [],
   "source": []
  }
 ],
 "metadata": {
  "kernelspec": {
   "display_name": "Python 3",
   "language": "python",
   "name": "python3"
  },
  "language_info": {
   "codemirror_mode": {
    "name": "ipython",
    "version": 3
   },
   "file_extension": ".py",
   "mimetype": "text/x-python",
   "name": "python",
   "nbconvert_exporter": "python",
   "pygments_lexer": "ipython3",
   "version": "3.7.3"
  }
 },
 "nbformat": 4,
 "nbformat_minor": 2
}
