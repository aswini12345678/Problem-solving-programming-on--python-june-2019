{
 "cells": [
  {
   "cell_type": "code",
   "execution_count": 41,
   "metadata": {},
   "outputs": [],
   "source": [
    "# Function to generate marks data for n students\n",
    "from random import randint\n",
    "\n",
    "def generatemarks(n, lb, ub):\n",
    "    with open('datafiles/marks.txt', 'w') as f:\n",
    "        for i in range(0, n):\n",
    "            r = randint(lb, ub)\n",
    "            f.write(str(r) + '\\n')\n",
    "    return\n",
    "\n",
    "generatemarks(40, 0, 100)"
   ]
  },
  {
   "cell_type": "code",
   "execution_count": 31,
   "metadata": {},
   "outputs": [
    {
     "name": "stdout",
     "output_type": "stream",
     "text": [
      "50\n"
     ]
    }
   ],
   "source": [
    "def classavg():\n",
    "    count = 0\n",
    "    sum = 0\n",
    "    with open('datafiles/marks.txt', 'r') as f:\n",
    "        for lines in f.readlines():\n",
    "            count = count + 1\n",
    "            sum = sum + int(lines)\n",
    "            \n",
    "    print(sum // count)\n",
    "classavg()\n",
    "            "
   ]
  },
  {
   "cell_type": "code",
   "execution_count": 45,
   "metadata": {},
   "outputs": [
    {
     "name": "stdout",
     "output_type": "stream",
     "text": [
      "25\n",
      "8.75\n"
     ]
    }
   ],
   "source": [
    "def passpercent():\n",
    "    count = 0\n",
    "    with open('datafiles/marks.txt', 'r') as f:\n",
    "        for i in f.readlines():\n",
    "            if(int(i) > 35):\n",
    "                count = count + 1\n",
    "        print(count)\n",
    "        print(35 * (count) / 100)\n",
    "        \n",
    "passpercent()"
   ]
  },
  {
   "cell_type": "code",
   "execution_count": 44,
   "metadata": {},
   "outputs": [
    {
     "name": "stdout",
     "output_type": "stream",
     "text": [
      "14\n",
      "4.9\n"
     ]
    }
   ],
   "source": [
    "def failpercent():\n",
    "    count = 0\n",
    "    with open('datafiles/marks.txt', 'r') as f:\n",
    "        for i in f.readlines():\n",
    "            if(int(i) < 35):\n",
    "                count = count + 1\n",
    "    print(count)\n",
    "    print(35 * (count) / 100)\n",
    "\n",
    "failpercent()"
   ]
  },
  {
   "cell_type": "code",
   "execution_count": 43,
   "metadata": {},
   "outputs": [
    {
     "name": "stdout",
     "output_type": "stream",
     "text": [
      "5\n",
      "3.75\n"
     ]
    }
   ],
   "source": [
    "def distinction():\n",
    "    count = 0\n",
    "    with open('datafiles/marks.txt', 'r') as f:\n",
    "        for i in f.readlines():\n",
    "            if(int(i) >= 75):\n",
    "                count =count + 1\n",
    "    print(count)\n",
    "    print(75 * (count) / 100)\n",
    "    \n",
    "distinction()\n",
    "              "
   ]
  },
  {
   "cell_type": "code",
   "execution_count": 53,
   "metadata": {},
   "outputs": [
    {
     "name": "stdout",
     "output_type": "stream",
     "text": [
      "96 : 1\n"
     ]
    }
   ],
   "source": [
    "def highmarksfrequency():\n",
    "    with open('datafiles/marks.txt', 'r') as f:\n",
    "        fhigh = f.read()\n",
    "        count = 0\n",
    "        for i in fhigh.split():\n",
    "                if i==max(fhigh.split()):\n",
    "                    count = count + 1\n",
    "        print(max(fhigh.split()), \":\", count)\n",
    "highmarksfrequency()"
   ]
  },
  {
   "cell_type": "code",
   "execution_count": 52,
   "metadata": {},
   "outputs": [
    {
     "name": "stdout",
     "output_type": "stream",
     "text": [
      "1 : 5\n"
     ]
    }
   ],
   "source": [
    "def lowmarksfrequency():\n",
    "    with open('datafiles/marks.txt', 'r') as f:\n",
    "        flow = f.read()\n",
    "        count = 0\n",
    "        for i in flow.split():\n",
    "                if i==min(flow.split()):\n",
    "                    count = count + 1\n",
    "        print(min(flow.split()), \":\", count)\n",
    "lowmarksfrequency()"
   ]
  },
  {
   "cell_type": "code",
   "execution_count": 54,
   "metadata": {},
   "outputs": [
    {
     "name": "stdout",
     "output_type": "stream",
     "text": [
      "name1 is in contact\n",
      "Phone number: 9492678771\n",
      "email id: abcdef@gmail.com\n",
      "\n"
     ]
    }
   ],
   "source": [
    "def searchcontacts(name):\n",
    "    l = []\n",
    "    \n",
    "    with open('datafiles/contacts.txt', 'r') as f:\n",
    "        for line in f:\n",
    "            l.append(line.split(','))\n",
    "            for i in range(0, len(l)):\n",
    "                if(l[i][0] == name):\n",
    "                    f=0\n",
    "                    p=l[i][1]\n",
    "                    e=l[i][2]\n",
    "        if f == 0:\n",
    "            print(\"%s is in contact\" %name)\n",
    "            print(\"Phone number:\",p)\n",
    "            print(\"email id:\",e)\n",
    "        else:\n",
    "            print(\"enter correct values\")\n",
    "                        \n",
    "                    \n",
    "searchcontacts(\"name1\")\n",
    "            "
   ]
  },
  {
   "cell_type": "code",
   "execution_count": 66,
   "metadata": {},
   "outputs": [
    {
     "ename": "NameError",
     "evalue": "name 'name' is not defined",
     "output_type": "error",
     "traceback": [
      "\u001b[1;31m---------------------------------------------------------------------------\u001b[0m",
      "\u001b[1;31mNameError\u001b[0m                                 Traceback (most recent call last)",
      "\u001b[1;32m<ipython-input-66-fad553f73a0c>\u001b[0m in \u001b[0;36m<module>\u001b[1;34m\u001b[0m\n\u001b[0;32m      9\u001b[0m             \u001b[0mprint\u001b[0m\u001b[1;33m(\u001b[0m\u001b[0ml\u001b[0m\u001b[1;33m)\u001b[0m\u001b[1;33m\u001b[0m\u001b[1;33m\u001b[0m\u001b[0m\n\u001b[0;32m     10\u001b[0m \u001b[1;33m\u001b[0m\u001b[0m\n\u001b[1;32m---> 11\u001b[1;33m \u001b[0mdelcontacts\u001b[0m\u001b[1;33m(\u001b[0m\u001b[0mname\u001b[0m\u001b[1;33m)\u001b[0m\u001b[1;33m\u001b[0m\u001b[1;33m\u001b[0m\u001b[0m\n\u001b[0m",
      "\u001b[1;31mNameError\u001b[0m: name 'name' is not defined"
     ]
    }
   ],
   "source": [
    "def delcontacts(name):\n",
    "    l = []\n",
    "    with open('datafiles/contacts.txt', 'r') as f:\n",
    "        for line in f:\n",
    "            l.append(line.split(','))\n",
    "            for i in range(0, len(l)):\n",
    "                if(l[i][0] == name):\n",
    "                    l.pop(i)\n",
    "            print(l)\n",
    "            li.insert()\n",
    "    \n",
    "delcontacts(name)"
   ]
  },
  {
   "cell_type": "code",
   "execution_count": 2,
   "metadata": {},
   "outputs": [
    {
     "ename": "KeyError",
     "evalue": "'c'",
     "output_type": "error",
     "traceback": [
      "\u001b[1;31m---------------------------------------------------------------------------\u001b[0m",
      "\u001b[1;31mKeyError\u001b[0m                                  Traceback (most recent call last)",
      "\u001b[1;32m<ipython-input-2-3e649f06d507>\u001b[0m in \u001b[0;36m<module>\u001b[1;34m\u001b[0m\n\u001b[0;32m     31\u001b[0m     \u001b[1;32mreturn\u001b[0m \u001b[0mcount\u001b[0m\u001b[1;33m\u001b[0m\u001b[1;33m\u001b[0m\u001b[0m\n\u001b[0;32m     32\u001b[0m \u001b[1;33m\u001b[0m\u001b[0m\n\u001b[1;32m---> 33\u001b[1;33m \u001b[0mchardeletionsanagrams\u001b[0m\u001b[1;33m(\u001b[0m\u001b[1;34m'cde'\u001b[0m\u001b[1;33m,\u001b[0m \u001b[1;34m'abc'\u001b[0m\u001b[1;33m)\u001b[0m\u001b[1;33m\u001b[0m\u001b[1;33m\u001b[0m\u001b[0m\n\u001b[0m\u001b[0;32m     34\u001b[0m \u001b[1;33m\u001b[0m\u001b[0m\n\u001b[0;32m     35\u001b[0m      \u001b[1;31m#for i in range(0, t):\u001b[0m\u001b[1;33m\u001b[0m\u001b[1;33m\u001b[0m\u001b[1;33m\u001b[0m\u001b[0m\n",
      "\u001b[1;32m<ipython-input-2-3e649f06d507>\u001b[0m in \u001b[0;36mchardeletionsanagrams\u001b[1;34m(s1, s2)\u001b[0m\n\u001b[0;32m     28\u001b[0m             \u001b[0muniqs2\u001b[0m\u001b[1;33m.\u001b[0m\u001b[0mappend\u001b[0m\u001b[1;33m(\u001b[0m\u001b[0mi\u001b[0m\u001b[1;33m)\u001b[0m\u001b[1;33m\u001b[0m\u001b[1;33m\u001b[0m\u001b[0m\n\u001b[0;32m     29\u001b[0m     \u001b[1;32mfor\u001b[0m \u001b[0mkey\u001b[0m \u001b[1;32min\u001b[0m \u001b[0mfreqs1\u001b[0m\u001b[1;33m.\u001b[0m\u001b[0mkeys\u001b[0m\u001b[1;33m(\u001b[0m\u001b[1;33m)\u001b[0m\u001b[1;33m:\u001b[0m\u001b[1;33m\u001b[0m\u001b[1;33m\u001b[0m\u001b[0m\n\u001b[1;32m---> 30\u001b[1;33m         \u001b[0mcount\u001b[0m \u001b[1;33m+=\u001b[0m \u001b[0mabs\u001b[0m\u001b[1;33m(\u001b[0m\u001b[0mfreqs1\u001b[0m\u001b[1;33m[\u001b[0m\u001b[0mkey\u001b[0m\u001b[1;33m]\u001b[0m \u001b[1;33m-\u001b[0m \u001b[0mfreqs2\u001b[0m\u001b[1;33m[\u001b[0m\u001b[0mkey\u001b[0m\u001b[1;33m]\u001b[0m\u001b[1;33m)\u001b[0m\u001b[1;33m\u001b[0m\u001b[1;33m\u001b[0m\u001b[0m\n\u001b[0m\u001b[0;32m     31\u001b[0m     \u001b[1;32mreturn\u001b[0m \u001b[0mcount\u001b[0m\u001b[1;33m\u001b[0m\u001b[1;33m\u001b[0m\u001b[0m\n\u001b[0;32m     32\u001b[0m \u001b[1;33m\u001b[0m\u001b[0m\n",
      "\u001b[1;31mKeyError\u001b[0m: 'c'"
     ]
    }
   ],
   "source": [
    "def checkanagrams(s1, s2):\n",
    "    if len(s1) != len(s2):\n",
    "        return False\n",
    "    if sorted(s1) == sorted(s2):\n",
    "        return True\n",
    "    \n",
    "def chardeletionsanagrams(s1, s2):\n",
    "    uncommon = []\n",
    "    for i in s1:\n",
    "        if i not in s2:\n",
    "            uncommon.append(i)\n",
    "    for i in s2:\n",
    "        if i not in s1:\n",
    "            uncommon.append(i)\n",
    "    count = len(uncommon)\n",
    "    freqs1 = {}\n",
    "    freqs2 = {}\n",
    "    uniqs1 = []\n",
    "    uniqs2 = []\n",
    "    \n",
    "    for i in s1:\n",
    "        if i not in uncommon and i not in uniqs1:\n",
    "            freqs1[i] = s1.count(i)\n",
    "            uniqs1.append(i)\n",
    "    for i in s2:\n",
    "        if i not in uncommon and i not in uniqs2:\n",
    "            freqs1[i] = s1.count(i)\n",
    "            uniqs2.append(i)\n",
    "    for key in freqs1.keys():\n",
    "        count += abs(freqs1[key] - freqs2[key])\n",
    "    return count\n",
    "\n",
    "chardeletionsanagrams('cde', 'abc')\n",
    "\n",
    "     #for i in range(0, t):\n",
    "        \n",
    "        \n",
    "          "
   ]
  },
  {
   "cell_type": "code",
   "execution_count": 5,
   "metadata": {},
   "outputs": [
    {
     "data": {
      "text/plain": [
       "'b'"
      ]
     },
     "execution_count": 5,
     "metadata": {},
     "output_type": "execute_result"
    }
   ],
   "source": [
    "# Function to find kth largest frequency\n",
    "\n",
    "def klargestfrequency(s, k):\n",
    "    #construct the frequency dictionary fr all unique charecters\n",
    "    unique = []\n",
    "    freq = {}\n",
    "    for i in s:\n",
    "        if i not in freq.keys():\n",
    "            freq[i] = s.count(i)\n",
    "    values = sorted(freq.values())\n",
    "    uniquevalues = list(set(values))\n",
    "    uniquevalues = sorted(uniquevalues, reverse=True)\n",
    "    # Identify kth largest frequency\n",
    "    if k <= len(uniquevalues):\n",
    "        kvalue = uniquevalues[k-1]\n",
    "        # get all element with kth largest frequency\n",
    "    else:\n",
    "        return -1\n",
    "    li = []\n",
    "    \n",
    "    for item in freq.items():\n",
    "        if item[1] == kvalue:\n",
    "            li.append(item[0])\n",
    "    return min(li)  \n",
    "\n",
    "klargestfrequency('aabcd', 2)"
   ]
  },
  {
   "cell_type": "code",
   "execution_count": null,
   "metadata": {},
   "outputs": [],
   "source": []
  }
 ],
 "metadata": {
  "kernelspec": {
   "display_name": "Python 3",
   "language": "python",
   "name": "python3"
  },
  "language_info": {
   "codemirror_mode": {
    "name": "ipython",
    "version": 3
   },
   "file_extension": ".py",
   "mimetype": "text/x-python",
   "name": "python",
   "nbconvert_exporter": "python",
   "pygments_lexer": "ipython3",
   "version": "3.7.3"
  }
 },
 "nbformat": 4,
 "nbformat_minor": 2
}
